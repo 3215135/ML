{
 "cells": [
  {
   "cell_type": "code",
   "execution_count": 1,
   "metadata": {},
   "outputs": [],
   "source": [
    "import pandas as pd\n",
    "import numpy as np\n",
    "import matplotlib.pyplot as plt\n"
   ]
  },
  {
   "cell_type": "markdown",
   "metadata": {},
   "source": [
    "# bulid dataset"
   ]
  },
  {
   "cell_type": "code",
   "execution_count": 2,
   "metadata": {},
   "outputs": [],
   "source": [
    "class_=['A','B','C','D','E','F','G']\n",
    "Drink=['Coke','Pepsi','7Up','Sprite','Latte','Espresso','Cappuccino']\n",
    "rank=[7,6,5,4,3,2,1]\n",
    "count=[200,100,100,200,100,100,200]\n",
    "amount=[(100, 200),(200, 10),(200, 10),(400, 100),(800, 10),(800, 10),(900, 400)]"
   ]
  },
  {
   "cell_type": "code",
   "execution_count": 3,
   "metadata": {},
   "outputs": [],
   "source": [
    "dic=['class','Drink','rank','count','amount','test']"
   ]
  },
  {
   "cell_type": "code",
   "execution_count": 4,
   "metadata": {},
   "outputs": [
    {
     "data": {
      "text/html": [
       "<div>\n",
       "<style scoped>\n",
       "    .dataframe tbody tr th:only-of-type {\n",
       "        vertical-align: middle;\n",
       "    }\n",
       "\n",
       "    .dataframe tbody tr th {\n",
       "        vertical-align: top;\n",
       "    }\n",
       "\n",
       "    .dataframe thead th {\n",
       "        text-align: right;\n",
       "    }\n",
       "</style>\n",
       "<table border=\"1\" class=\"dataframe\">\n",
       "  <thead>\n",
       "    <tr style=\"text-align: right;\">\n",
       "      <th></th>\n",
       "      <th>class</th>\n",
       "      <th>Drink</th>\n",
       "      <th>rank</th>\n",
       "      <th>count</th>\n",
       "      <th>amount</th>\n",
       "      <th>test</th>\n",
       "    </tr>\n",
       "  </thead>\n",
       "  <tbody>\n",
       "    <tr>\n",
       "      <th>0</th>\n",
       "      <td>A</td>\n",
       "      <td>Coke</td>\n",
       "      <td>7</td>\n",
       "      <td>200</td>\n",
       "      <td>(100, 200)</td>\n",
       "      <td>NaN</td>\n",
       "    </tr>\n",
       "    <tr>\n",
       "      <th>1</th>\n",
       "      <td>B</td>\n",
       "      <td>Pepsi</td>\n",
       "      <td>6</td>\n",
       "      <td>100</td>\n",
       "      <td>(200, 10)</td>\n",
       "      <td>NaN</td>\n",
       "    </tr>\n",
       "    <tr>\n",
       "      <th>2</th>\n",
       "      <td>C</td>\n",
       "      <td>7Up</td>\n",
       "      <td>5</td>\n",
       "      <td>100</td>\n",
       "      <td>(200, 10)</td>\n",
       "      <td>NaN</td>\n",
       "    </tr>\n",
       "    <tr>\n",
       "      <th>3</th>\n",
       "      <td>D</td>\n",
       "      <td>Sprite</td>\n",
       "      <td>4</td>\n",
       "      <td>200</td>\n",
       "      <td>(400, 100)</td>\n",
       "      <td>NaN</td>\n",
       "    </tr>\n",
       "    <tr>\n",
       "      <th>4</th>\n",
       "      <td>E</td>\n",
       "      <td>Latte</td>\n",
       "      <td>3</td>\n",
       "      <td>100</td>\n",
       "      <td>(800, 10)</td>\n",
       "      <td>NaN</td>\n",
       "    </tr>\n",
       "    <tr>\n",
       "      <th>5</th>\n",
       "      <td>F</td>\n",
       "      <td>Espresso</td>\n",
       "      <td>2</td>\n",
       "      <td>100</td>\n",
       "      <td>(800, 10)</td>\n",
       "      <td>NaN</td>\n",
       "    </tr>\n",
       "    <tr>\n",
       "      <th>6</th>\n",
       "      <td>G</td>\n",
       "      <td>Cappuccino</td>\n",
       "      <td>1</td>\n",
       "      <td>200</td>\n",
       "      <td>(900, 400)</td>\n",
       "      <td>NaN</td>\n",
       "    </tr>\n",
       "  </tbody>\n",
       "</table>\n",
       "</div>"
      ],
      "text/plain": [
       "  class       Drink  rank  count      amount test\n",
       "0     A        Coke     7    200  (100, 200)  NaN\n",
       "1     B       Pepsi     6    100   (200, 10)  NaN\n",
       "2     C         7Up     5    100   (200, 10)  NaN\n",
       "3     D      Sprite     4    200  (400, 100)  NaN\n",
       "4     E       Latte     3    100   (800, 10)  NaN\n",
       "5     F    Espresso     2    100   (800, 10)  NaN\n",
       "6     G  Cappuccino     1    200  (900, 400)  NaN"
      ]
     },
     "execution_count": 4,
     "metadata": {},
     "output_type": "execute_result"
    }
   ],
   "source": [
    "asd=pd.DataFrame(columns=dic)\n",
    "asd['class']=class_\n",
    "asd['Drink']=Drink\n",
    "asd['rank']=rank\n",
    "asd['count']=count\n",
    "asd['amount']=amount\n",
    "asd"
   ]
  },
  {
   "cell_type": "markdown",
   "metadata": {},
   "source": [
    "# 隨機產生常態分佈資料"
   ]
  },
  {
   "cell_type": "code",
   "execution_count": 5,
   "metadata": {},
   "outputs": [
    {
     "data": {
      "image/png": "[encoded data removed]",
      "text/plain": [
       "<Figure size 432x288 with 1 Axes>"
      ]
     },
     "metadata": {
      "needs_background": "light"
     },
     "output_type": "display_data"
    }
   ],
   "source": [
    "import numpy\n",
    "import matplotlib.pyplot as plt\n",
    "\n",
    "#x = numpy.random.normal(100, 200, 200)\n",
    "x=[]\n",
    "for i in range(len(count)):\n",
    "    x.append(numpy.random.normal(amount[i][0], amount[i][1], count[i]))\n",
    "    \n",
    "plt.hist(x[0], 100)\n",
    "plt.hist(x[1], 100)\n",
    "plt.hist(x[2], 100)\n",
    "plt.hist(x[3], 100)\n",
    "plt.hist(x[4], 100)\n",
    "plt.hist(x[5], 100)\n",
    "plt.hist(x[6], 100)\n",
    "\n",
    "plt.show()"
   ]
  },
  {
   "cell_type": "code",
   "execution_count": 6,
   "metadata": {},
   "outputs": [],
   "source": [
    "asd['test']=x"
   ]
  },
  {
   "cell_type": "markdown",
   "metadata": {},
   "source": [
    "# word2vec "
   ]
  },
  {
   "cell_type": "code",
   "execution_count": 7,
   "metadata": {},
   "outputs": [],
   "source": [
    "#googlennews dowload\n",
    "#沒有googlenews請下載~\n",
    "# wget -c \"https://s3.amazonaws.com/dl4j-distribution/GoogleNews-vectors-negative300.bin.gz\""
   ]
  },
  {
   "cell_type": "code",
   "execution_count": 8,
   "metadata": {},
   "outputs": [],
   "source": [
    "import gensim\n",
    "import pandas as pd\n",
    "model = gensim.models.KeyedVectors.load_word2vec_format(r'C:\\Users\\Tsai\\GoogleNews-vectors-negative300.bin', binary=True)  "
   ]
  },
  {
   "cell_type": "code",
   "execution_count": 9,
   "metadata": {
    "scrolled": true
   },
   "outputs": [
    {
     "data": {
      "text/plain": [
       "0.14073473"
      ]
     },
     "execution_count": 9,
     "metadata": {},
     "output_type": "execute_result"
    }
   ],
   "source": [
    "vec=[]\n",
    "for i in Drink:\n",
    "    vec.append(model[i])\n",
    "#兩個類別的距離    \n",
    "y1 = model.similarity(\"Coke\", \"Cappuccino\")\n",
    "y1"
   ]
  },
  {
   "cell_type": "code",
   "execution_count": 10,
   "metadata": {},
   "outputs": [
    {
     "data": {
      "text/html": [
       "<div>\n",
       "<style scoped>\n",
       "    .dataframe tbody tr th:only-of-type {\n",
       "        vertical-align: middle;\n",
       "    }\n",
       "\n",
       "    .dataframe tbody tr th {\n",
       "        vertical-align: top;\n",
       "    }\n",
       "\n",
       "    .dataframe thead th {\n",
       "        text-align: right;\n",
       "    }\n",
       "</style>\n",
       "<table border=\"1\" class=\"dataframe\">\n",
       "  <thead>\n",
       "    <tr style=\"text-align: right;\">\n",
       "      <th></th>\n",
       "      <th>Coke</th>\n",
       "      <th>Pepsi</th>\n",
       "      <th>7Up</th>\n",
       "      <th>Sprite</th>\n",
       "      <th>Latte</th>\n",
       "      <th>Espresso</th>\n",
       "      <th>Cappuccino</th>\n",
       "    </tr>\n",
       "  </thead>\n",
       "  <tbody>\n",
       "  </tbody>\n",
       "</table>\n",
       "</div>"
      ],
      "text/plain": [
       "Empty DataFrame\n",
       "Columns: [Coke, Pepsi, 7Up, Sprite, Latte, Espresso, Cappuccino]\n",
       "Index: []"
      ]
     },
     "execution_count": 10,
     "metadata": {},
     "output_type": "execute_result"
    }
   ],
   "source": [
    "c=[]\n",
    "qwe=pd.DataFrame(columns=Drink)\n",
    "qwe"
   ]
  },
  {
   "cell_type": "code",
   "execution_count": 11,
   "metadata": {},
   "outputs": [],
   "source": [
    "#各個node之間距離之矩陣"
   ]
  },
  {
   "cell_type": "code",
   "execution_count": 76,
   "metadata": {
    "scrolled": true
   },
   "outputs": [],
   "source": [
    "for i in range(len(Drink)):\n",
    "    for j in range(len(Drink)):\n",
    "        #qwe[Drink[i]]\n",
    "        c.append(model.similarity(Drink[i],Drink[j]))\n",
    "    #print(qwe[Drink[i]])\n",
    "    qwe[Drink[i]]=c\n",
    "    c=[]"
   ]
  },
  {
   "cell_type": "code",
   "execution_count": 81,
   "metadata": {
    "scrolled": false
   },
   "outputs": [
    {
     "data": {
      "text/plain": [
       "array([[ 396.11682 ,   53.753563,  202.08836 ],\n",
       "       [ 415.7416  , -105.230156,  217.31645 ],\n",
       "       [ 297.69986 ,   75.35961 , -403.21027 ],\n",
       "       [ 332.85394 ,  -31.598057,  -75.28403 ],\n",
       "       [-452.7271  ,  279.17783 ,   65.991455],\n",
       "       [-533.21747 ,  154.98485 ,   28.447187],\n",
       "       [-456.51697 , -428.02795 ,  -35.59106 ]], dtype=float32)"
      ]
     },
     "execution_count": 81,
     "metadata": {},
     "output_type": "execute_result"
    }
   ],
   "source": [
    "from sklearn.manifold import TSNE\n",
    "from sklearn import preprocessing #标准化数据模块\n",
    "\n",
    "embedding = TSNE(n_components=3,init='pca',n_iter=250)\n",
    "X_transformed=embedding.fit_transform(qwe)\n",
    "X_transformed.shape\n",
    "X_transformed"
   ]
  },
  {
   "cell_type": "code",
   "execution_count": 87,
   "metadata": {},
   "outputs": [
    {
     "data": {
      "image/png": "[encoded data removed]",
      "text/plain": [
       "<Figure size 360x360 with 1 Axes>"
      ]
     },
     "metadata": {
      "needs_background": "light"
     },
     "output_type": "display_data"
    }
   ],
   "source": [
    "import matplotlib.pyplot as plot\n",
    "plot.figure(figsize=(5,5))\n",
    "plot.scatter(X_transformed[:,0],X_transformed[:,2],color=\"red\")\n",
    "plot.xlabel(\"X\")\n",
    "plot.ylabel(\"Y\")\n",
    "plot.title(\"Scatter Plot with annotations\",fontsize=15)\n",
    "for i,label in enumerate(qwe.columns):\n",
    "        plot.annotate(label, (embedding.embedding_[i,0], embedding.embedding_[i,2]))\n",
    "plot.show()"
   ]
  },
  {
   "cell_type": "code",
   "execution_count": null,
   "metadata": {},
   "outputs": [],
   "source": []
  },
  {
   "cell_type": "code",
   "execution_count": null,
   "metadata": {},
   "outputs": [],
   "source": []
  },
  {
   "cell_type": "code",
   "execution_count": null,
   "metadata": {},
   "outputs": [],
   "source": []
  }
 ],
 "metadata": {
  "kernelspec": {
   "display_name": "Python 3",
   "language": "python",
   "name": "python3"
  },
  "language_info": {
   "codemirror_mode": {
    "name": "ipython",
    "version": 3
   },
   "file_extension": ".py",
   "mimetype": "text/x-python",
   "name": "python",
   "nbconvert_exporter": "python",
   "pygments_lexer": "ipython3",
   "version": "3.8.5"
  }
 },
 "nbformat": 4,
 "nbformat_minor": 4
}
