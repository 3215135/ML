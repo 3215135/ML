{
 "cells": [
  {
   "cell_type": "code",
   "execution_count": 1,
   "metadata": {},
   "outputs": [],
   "source": [
    "import numpy as np\n",
    "import pandas as pd\n",
    "from sklearn.manifold import MDS\n",
    "import matplotlib.pyplot as plt"
   ]
  },
  {
   "cell_type": "code",
   "execution_count": 2,
   "metadata": {},
   "outputs": [],
   "source": [
    "# data=np.array([(0,2.72482359,3.062556295,3.689343393,4.243794266,4.243891398, 4.726255742),\n",
    "# (2.72482359,0,0.531816187,1.169818977,1.788333293,1.788468097,2.199979202),\n",
    "# (3.062556295,0.531816187,0,0.665809849,1.278984819,1.279112839,1.718167284),\n",
    "# (3.689343393,1.169818977,0.665809849,0,0.618533425,0.618667845,1.054582911),\n",
    "# (4.243794266,1.788333293,1.278984819,0.618533425,0,0.0001477,0.49357924),\n",
    "# (4.243891398,1.788468097,1.279112839,0.618667845,0.0001477,0,0.493509347),\n",
    "# (4.726255742,2.199979202,1.718167284,1.054582911,0.49357924,0.493509347,0)\n",
    "\n",
    "#      ])"
   ]
  },
  {
   "cell_type": "code",
   "execution_count": 3,
   "metadata": {},
   "outputs": [],
   "source": [
    "index = ['高雄高鐵','台南','雲林','台中','新竹','桃園','台北']\n",
    "columns = ['高雄高鐵','台南','雲林','台中','新竹','桃園','台北']\n"
   ]
  },
  {
   "cell_type": "markdown",
   "metadata": {},
   "source": [
    "# 計算mds距離矩陣 歐g裡d"
   ]
  },
  {
   "cell_type": "code",
   "execution_count": 4,
   "metadata": {},
   "outputs": [],
   "source": [
    "from scipy.spatial import distance\n",
    "p1=[(22.6819727,120.2973441),\n",
    "(22.9256945,120.2833431),\n",
    "(23.7363097,120.4143089),\n",
    "(24.1115388,120.6131269),\n",
    "(24.8082002,121.0379356),\n",
    "(25.012229,121.2157332),\n",
    "(25.0476216,121.5140523)\n",
    "\n",
    "]\n",
    "p2=[(22.6819727,120.2973441),\n",
    "(22.9256945,120.2833431),\n",
    "(23.7363097,120.4143089),\n",
    "(24.1115388,120.6131269),\n",
    "(24.8082002,121.0379356),\n",
    "(25.012229,121.2157332),\n",
    "(25.0476216,121.5140523)\n",
    "\n",
    "]\n",
    "p1=np.array(p1,dtype=np.float64)\n",
    "p2=np.array(p2,dtype=np.float64)\n",
    "\n",
    "# get distance matrix\n",
    "dis_matrix1=distance.cdist(p1, p1, 'euclidean')\n",
    "dis_matrix2=distance.cdist(p1, p2, 'euclidean')"
   ]
  },
  {
   "cell_type": "code",
   "execution_count": 5,
   "metadata": {},
   "outputs": [
    {
     "data": {
      "text/html": [
       "<div>\n",
       "<style scoped>\n",
       "    .dataframe tbody tr th:only-of-type {\n",
       "        vertical-align: middle;\n",
       "    }\n",
       "\n",
       "    .dataframe tbody tr th {\n",
       "        vertical-align: top;\n",
       "    }\n",
       "\n",
       "    .dataframe thead th {\n",
       "        text-align: right;\n",
       "    }\n",
       "</style>\n",
       "<table border=\"1\" class=\"dataframe\">\n",
       "  <thead>\n",
       "    <tr style=\"text-align: right;\">\n",
       "      <th></th>\n",
       "      <th>高雄高鐵</th>\n",
       "      <th>台南</th>\n",
       "      <th>雲林</th>\n",
       "      <th>台中</th>\n",
       "      <th>新竹</th>\n",
       "      <th>桃園</th>\n",
       "      <th>台北</th>\n",
       "    </tr>\n",
       "  </thead>\n",
       "  <tbody>\n",
       "    <tr>\n",
       "      <th>高雄高鐵</th>\n",
       "      <td>0.000000</td>\n",
       "      <td>0.244124</td>\n",
       "      <td>1.060805</td>\n",
       "      <td>1.464028</td>\n",
       "      <td>2.251515</td>\n",
       "      <td>2.504702</td>\n",
       "      <td>2.660202</td>\n",
       "    </tr>\n",
       "    <tr>\n",
       "      <th>台南</th>\n",
       "      <td>0.244124</td>\n",
       "      <td>0.000000</td>\n",
       "      <td>0.821127</td>\n",
       "      <td>1.230847</td>\n",
       "      <td>2.028112</td>\n",
       "      <td>2.285383</td>\n",
       "      <td>2.453002</td>\n",
       "    </tr>\n",
       "    <tr>\n",
       "      <th>雲林</th>\n",
       "      <td>1.060805</td>\n",
       "      <td>0.821127</td>\n",
       "      <td>0.000000</td>\n",
       "      <td>0.424647</td>\n",
       "      <td>1.240105</td>\n",
       "      <td>1.506735</td>\n",
       "      <td>1.711425</td>\n",
       "    </tr>\n",
       "    <tr>\n",
       "      <th>台中</th>\n",
       "      <td>1.464028</td>\n",
       "      <td>1.230847</td>\n",
       "      <td>0.424647</td>\n",
       "      <td>0.000000</td>\n",
       "      <td>0.815965</td>\n",
       "      <td>1.083687</td>\n",
       "      <td>1.299199</td>\n",
       "    </tr>\n",
       "    <tr>\n",
       "      <th>新竹</th>\n",
       "      <td>2.251515</td>\n",
       "      <td>2.028112</td>\n",
       "      <td>1.240105</td>\n",
       "      <td>0.815965</td>\n",
       "      <td>0.000000</td>\n",
       "      <td>0.270628</td>\n",
       "      <td>0.532926</td>\n",
       "    </tr>\n",
       "    <tr>\n",
       "      <th>桃園</th>\n",
       "      <td>2.504702</td>\n",
       "      <td>2.285383</td>\n",
       "      <td>1.506735</td>\n",
       "      <td>1.083687</td>\n",
       "      <td>0.270628</td>\n",
       "      <td>0.000000</td>\n",
       "      <td>0.300411</td>\n",
       "    </tr>\n",
       "    <tr>\n",
       "      <th>台北</th>\n",
       "      <td>2.660202</td>\n",
       "      <td>2.453002</td>\n",
       "      <td>1.711425</td>\n",
       "      <td>1.299199</td>\n",
       "      <td>0.532926</td>\n",
       "      <td>0.300411</td>\n",
       "      <td>0.000000</td>\n",
       "    </tr>\n",
       "  </tbody>\n",
       "</table>\n",
       "</div>"
      ],
      "text/plain": [
       "          高雄高鐵        台南        雲林        台中        新竹        桃園        台北\n",
       "高雄高鐵  0.000000  0.244124  1.060805  1.464028  2.251515  2.504702  2.660202\n",
       "台南    0.244124  0.000000  0.821127  1.230847  2.028112  2.285383  2.453002\n",
       "雲林    1.060805  0.821127  0.000000  0.424647  1.240105  1.506735  1.711425\n",
       "台中    1.464028  1.230847  0.424647  0.000000  0.815965  1.083687  1.299199\n",
       "新竹    2.251515  2.028112  1.240105  0.815965  0.000000  0.270628  0.532926\n",
       "桃園    2.504702  2.285383  1.506735  1.083687  0.270628  0.000000  0.300411\n",
       "台北    2.660202  2.453002  1.711425  1.299199  0.532926  0.300411  0.000000"
      ]
     },
     "execution_count": 5,
     "metadata": {},
     "output_type": "execute_result"
    }
   ],
   "source": [
    "a=pd.DataFrame(dis_matrix1,index,columns)\n",
    "a"
   ]
  },
  {
   "cell_type": "code",
   "execution_count": 6,
   "metadata": {},
   "outputs": [
    {
     "name": "stderr",
     "output_type": "stream",
     "text": [
      "C:\\Users\\Cai\\anaconda3\\lib\\site-packages\\sklearn\\manifold\\_mds.py:419: UserWarning: The MDS API has changed. ``fit`` now constructs an dissimilarity matrix from data. To use a custom dissimilarity matrix, set ``dissimilarity='precomputed'``.\n",
      "  warnings.warn(\"The MDS API has changed. ``fit`` now constructs an\"\n"
     ]
    }
   ],
   "source": [
    "mds = MDS()\n",
    "ff=mds.fit(dis_matrix1)"
   ]
  },
  {
   "cell_type": "code",
   "execution_count": 7,
   "metadata": {},
   "outputs": [],
   "source": [
    "import networkx as nx\n"
   ]
  },
  {
   "cell_type": "code",
   "execution_count": 25,
   "metadata": {},
   "outputs": [
    {
     "name": "stdout",
     "output_type": "stream",
     "text": [
      "[[-2.2410824   1.95642613]\n",
      " [-1.66724717  2.05910532]\n",
      " [ 0.23918881  1.34422294]\n",
      " [ 0.91324192  0.56701268]\n",
      " [ 1.21601962 -1.4577164 ]\n",
      " [ 0.9415823  -2.05262624]\n",
      " [ 0.59829693 -2.41642443]]\n"
     ]
    },
    {
     "data": {
      "text/plain": [
       "<matplotlib.collections.PathCollection at 0x1dc2ca33490>"
      ]
     },
     "execution_count": 25,
     "metadata": {},
     "output_type": "execute_result"
    },
    {
     "data": {
      "text/plain": [
       "<Figure size 576x576 with 0 Axes>"
      ]
     },
     "metadata": {},
     "output_type": "display_data"
    },
    {
     "data": {
      "image/png": "[encoded data removed]",
      "text/plain": [
       "<Figure size 144x360 with 1 Axes>"
      ]
     },
     "metadata": {
      "needs_background": "light"
     },
     "output_type": "display_data"
    }
   ],
   "source": [
    "b = mds.embedding_\n",
    "print(b)\n",
    "fig = plt.figure(figsize=(8, 8))\n",
    "\n",
    "\n",
    "plt.figure(figsize=(2,5))\n",
    "plt.scatter(b[0:,0],b[0:,1],color='red')"
   ]
  },
  {
   "cell_type": "code",
   "execution_count": 9,
   "metadata": {},
   "outputs": [],
   "source": [
    "index1=['Kaohsiung','Tainan','Yullin','Taichung','Hsinchu','Taoyuan','Taipei']\n"
   ]
  },
  {
   "cell_type": "code",
   "execution_count": 23,
   "metadata": {},
   "outputs": [
    {
     "data": {
      "text/plain": [
       "array([[-2.2410824 ,  1.95642613],\n",
       "       [-1.66724717,  2.05910532],\n",
       "       [ 0.23918881,  1.34422294],\n",
       "       [ 0.91324192,  0.56701268],\n",
       "       [ 1.21601962, -1.4577164 ],\n",
       "       [ 0.9415823 , -2.05262624],\n",
       "       [ 0.59829693, -2.41642443]])"
      ]
     },
     "execution_count": 23,
     "metadata": {},
     "output_type": "execute_result"
    }
   ],
   "source": [
    "#b=b*100\n",
    "b"
   ]
  },
  {
   "cell_type": "code",
   "execution_count": 36,
   "metadata": {
    "scrolled": true
   },
   "outputs": [
    {
     "data": {
      "text/plain": [
       "<Figure size 936x936 with 0 Axes>"
      ]
     },
     "metadata": {},
     "output_type": "display_data"
    },
    {
     "data": {
      "image/png": "[encoded data removed]",
      "text/plain": [
       "<Figure size 144x360 with 1 Axes>"
      ]
     },
     "metadata": {},
     "output_type": "display_data"
    }
   ],
   "source": [
    "import networkx as nx \n",
    "\n",
    "G = nx.DiGraph() \n",
    "\n",
    "for i in range(len(b)):\n",
    "    G.add_node(index1[i],pos=(b[i][0],b[i][1]))\n",
    "\n",
    "\n",
    "\n",
    "fig = plt.figure(figsize=(13, 13))\n",
    "plt.figure(figsize=(2,5))\n",
    "plt.scatter(b[0:,0],b[0:,1],color='red')\n",
    "\n",
    "nx.draw(G, nx.get_node_attributes(G, 'pos'), with_labels=True, node_size=0) "
   ]
  },
  {
   "cell_type": "code",
   "execution_count": null,
   "metadata": {},
   "outputs": [],
   "source": []
  },
  {
   "cell_type": "code",
   "execution_count": null,
   "metadata": {},
   "outputs": [],
   "source": []
  }
 ],
 "metadata": {
  "kernelspec": {
   "display_name": "Python 3",
   "language": "python",
   "name": "python3"
  },
  "language_info": {
   "codemirror_mode": {
    "name": "ipython",
    "version": 3
   },
   "file_extension": ".py",
   "mimetype": "text/x-python",
   "name": "python",
   "nbconvert_exporter": "python",
   "pygments_lexer": "ipython3",
   "version": "3.8.5"
  }
 },
 "nbformat": 4,
 "nbformat_minor": 4
}
