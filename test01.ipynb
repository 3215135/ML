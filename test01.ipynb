{
  "nbformat": 4,
  "nbformat_minor": 0,
  "metadata": {
    "colab": {
      "name": "test01.ipynb",
      "provenance": [],
      "collapsed_sections": [],
      "authorship_tag": "ABX9TyP4MsPHo5Vq9371yCgYXrrr",
      "include_colab_link": true
    },
    "kernelspec": {
      "name": "python3",
      "display_name": "Python 3"
    }
  },
  "cells": [
    {
      "cell_type": "markdown",
      "metadata": {
        "id": "view-in-github",
        "colab_type": "text"
      },
      "source": [
        "<a href=\"https://colab.research.google.com/github/m10923039/m10923039_hw01/blob/main/test01.ipynb\" target=\"_parent\"><img src=\"https://colab.research.google.com/assets/colab-badge.svg\" alt=\"Open In Colab\"/></a>"
      ]
    },
    {
      "cell_type": "code",
      "metadata": {
        "id": "5gL9MN9NjvT2"
      },
      "source": [
        "import numpy as np\n",
        "import pandas as pd\n",
        "import matplotlib.pyplot as plt\n",
        "from sklearn.model_selection import train_test_split\n",
        "from sklearn.metrics import f1_score, recall_score, precision_score\n",
        "from sklearn.metrics import precision_recall_fscore_support\n",
        "import tensorflow as tf\n",
        "from tensorflow.keras.models import Model,Sequential\n",
        "from tensorflow.keras.layers import Input, Dense, Activation,Dropout"
      ],
      "execution_count": null,
      "outputs": []
    },
    {
      "cell_type": "markdown",
      "metadata": {
        "id": "Bbf-r0888LBG"
      },
      "source": [
        "讀取檔案"
      ]
    },
    {
      "cell_type": "code",
      "metadata": {
        "id": "4VFeJViabU9n"
      },
      "source": [
        "df_data=pd.read_csv('/content/ObesityDataSet_raw_and_data_sinthetic.csv')"
      ],
      "execution_count": null,
      "outputs": []
    },
    {
      "cell_type": "code",
      "metadata": {
        "id": "miRJD76qw1yO",
        "colab": {
          "base_uri": "https://localhost:8080/"
        },
        "outputId": "b3b4c383-da6b-4105-acfc-ba294676d614"
      },
      "source": [
        "df_x=df_data.drop(['NObeyesdad'],axis=1)\n",
        "df_y=df_data.loc[:,'NObeyesdad']\n",
        "df_x['CH2O'].value_counts()\n",
        "df_y.value_counts()"
      ],
      "execution_count": 116,
      "outputs": [
        {
          "output_type": "execute_result",
          "data": {
            "text/plain": [
              "Obesity_Type_I         351\n",
              "Obesity_Type_III       324\n",
              "Obesity_Type_II        297\n",
              "Overweight_Level_I     290\n",
              "Overweight_Level_II    290\n",
              "Normal_Weight          287\n",
              "Insufficient_Weight    272\n",
              "Name: NObeyesdad, dtype: int64"
            ]
          },
          "metadata": {
            "tags": []
          },
          "execution_count": 116
        }
      ]
    },
    {
      "cell_type": "markdown",
      "metadata": {
        "id": "FBeN4_n98QnY"
      },
      "source": [
        "# **資料前處理**\n",
        "\n",
        "## lable encoding\n",
        "\n",
        "## family_history_with_overweight 超重的家族病史(是/否) <br>\n",
        "no  -> 0 <br>\n",
        "yes  -> 1\n",
        "## SMOKE 抽煙(是/否) <br>\n",
        "no  -> 0 <br>\n",
        "yes  -> 1 <br>\n",
        "## SCC 卡路里消耗監視(是/否)\n",
        "no  -> 0 <br>\n",
        "yes  -> 1 <br>\n",
        "## CAEC 兩餐之間的食物消耗量\n",
        "No  ->  1 <br>\n",
        "no  ->  1 <br>\n",
        "Sometimes  ->  2 <br>\n",
        "Frequently  ->  3 <br>\n",
        "Always  ->  4 <br>\n",
        "## CALC 酒精消耗量\n",
        "No  ->  1 <br>\n",
        "no  ->  1 <br>\n",
        "Sometimes  ->  2 <br>\n",
        "Frequently  ->  3 <br>\n",
        "Always  ->  4 <br>\n",
        "# one hot 欄位\n",
        "Gender 性別<br>\n",
        "MTRANS 交通工具<br>"
      ]
    },
    {
      "cell_type": "code",
      "metadata": {
        "id": "ivA4wv_Xb7vZ"
      },
      "source": [
        "# df_x\n",
        "df_x.loc()[df_x['family_history_with_overweight']=='no','family_history_with_overweight']=0\n",
        "df_x.loc()[df_x['family_history_with_overweight']=='yes','family_history_with_overweight']=1\n",
        "\n",
        "df_x.loc()[df_x['FAVC']=='no','FAVC']=0\n",
        "df_x.loc()[df_x['FAVC']=='yes','FAVC']=1\n",
        "\n",
        "df_x.loc()[df_x['SMOKE']=='no','SMOKE']=0\n",
        "df_x.loc()[df_x['SMOKE']=='yes','SMOKE']=1\n",
        "\n",
        "df_x.loc()[df_x['SCC']=='no','SCC']=0\n",
        "df_x.loc()[df_x['SCC']=='yes','SCC']=1\n",
        "\n",
        "df_x.loc()[df_x['CAEC']=='No','CAEC']=1\n",
        "df_x.loc()[df_x['CAEC']=='no','CAEC']=1\n",
        "df_x.loc()[df_x['CAEC']=='Sometimes','CAEC']=2\n",
        "df_x.loc()[df_x['CAEC']=='Frequently','CAEC']=3\n",
        "df_x.loc()[df_x['CAEC']=='Always','CAEC']=4\n",
        "\n",
        "df_x.loc()[df_x['CALC']=='no','CALC']=1\n",
        "df_x.loc()[df_x['CALC']=='Sometimes','CALC']=2\n",
        "df_x.loc()[df_x['CALC']=='Frequently','CALC']=3\n",
        "df_x.loc()[df_x['CALC']=='Always','CALC']=4\n",
        "\n",
        "df_x[['family_history_with_overweight', 'FAVC', 'CAEC', 'SMOKE', 'SCC','CALC']] =df_x[['family_history_with_overweight', 'FAVC', 'CAEC', 'SMOKE', 'SCC','CALC']].astype(int)\n",
        "\n",
        "x = pd.get_dummies(df_x)\n",
        "y = pd.get_dummies(df_y)\n",
        "\n",
        "x_train,x_test,y_train,y_test = train_test_split(x,y,test_size=0.2)\n",
        "# x_train, x_val, y_train, y_val = train_test_split(x_train, y_train, test_size=0.15)"
      ],
      "execution_count": 111,
      "outputs": []
    },
    {
      "cell_type": "code",
      "metadata": {
        "id": "8876_U1PktZb",
        "colab": {
          "base_uri": "https://localhost:8080/"
        },
        "outputId": "b382b061-9f4a-49c1-b682-9a372a282350"
      },
      "source": [
        "x_train.dtypes"
      ],
      "execution_count": 115,
      "outputs": [
        {
          "output_type": "execute_result",
          "data": {
            "text/plain": [
              "Age                               float64\n",
              "Height                            float64\n",
              "Weight                            float64\n",
              "family_history_with_overweight      int64\n",
              "FAVC                                int64\n",
              "FCVC                              float64\n",
              "NCP                               float64\n",
              "CAEC                                int64\n",
              "SMOKE                               int64\n",
              "CH2O                              float64\n",
              "SCC                                 int64\n",
              "FAF                               float64\n",
              "TUE                               float64\n",
              "CALC                                int64\n",
              "Gender_Female                       uint8\n",
              "Gender_Male                         uint8\n",
              "MTRANS_Automobile                   uint8\n",
              "MTRANS_Bike                         uint8\n",
              "MTRANS_Motorbike                    uint8\n",
              "MTRANS_Public_Transportation        uint8\n",
              "MTRANS_Walking                      uint8\n",
              "dtype: object"
            ]
          },
          "metadata": {
            "tags": []
          },
          "execution_count": 115
        }
      ]
    },
    {
      "cell_type": "code",
      "metadata": {
        "id": "s2IDb6trhLnJ"
      },
      "source": [
        "x_train"
      ],
      "execution_count": null,
      "outputs": []
    },
    {
      "cell_type": "code",
      "metadata": {
        "id": "LMV29Xm8w2fA"
      },
      "source": [
        "y_train"
      ],
      "execution_count": null,
      "outputs": []
    },
    {
      "cell_type": "code",
      "metadata": {
        "colab": {
          "base_uri": "https://localhost:8080/"
        },
        "id": "7KLCAXAUkdgV",
        "outputId": "c8a8e244-c531-45a2-b706-086755d72989"
      },
      "source": [
        "input_layer = Input(shape=(x_train.shape[1],))\n",
        "dense_layer_1 =Dense(32,kernel_initializer=tf.keras.initializers.GlorotNormal() ,activation='relu', name =\"nl1\" )(input_layer)\n",
        "dense_layer_2 = Dense(16,kernel_initializer=tf.keras.initializers.GlorotNormal(),activation='relu', name =\"nl2\" )(dense_layer_1)\n",
        "dense_layer_2 = Dense(10,activation='relu', name =\"nl3\" )(dense_layer_2)\n",
        "dense_layer_2 = Dense(10,activation='relu', name =\"nl4\" )(dense_layer_2)\n",
        "dense_layer_2 = Dropout(0.5)(dense_layer_2)\n",
        "output = Dense(y_train.shape[1],activation='softmax')(dense_layer_2)\n",
        "model = Model(inputs=input_layer, outputs=output)\n",
        "print(model.summary())"
      ],
      "execution_count": null,
      "outputs": [
        {
          "output_type": "stream",
          "text": [
            "Model: \"model_4\"\n",
            "_________________________________________________________________\n",
            "Layer (type)                 Output Shape              Param #   \n",
            "=================================================================\n",
            "input_5 (InputLayer)         [(None, 24)]              0         \n",
            "_________________________________________________________________\n",
            "nl1 (Dense)                  (None, 32)                800       \n",
            "_________________________________________________________________\n",
            "nl2 (Dense)                  (None, 16)                528       \n",
            "_________________________________________________________________\n",
            "nl3 (Dense)                  (None, 10)                170       \n",
            "_________________________________________________________________\n",
            "nl4 (Dense)                  (None, 10)                110       \n",
            "_________________________________________________________________\n",
            "dropout_4 (Dropout)          (None, 10)                0         \n",
            "_________________________________________________________________\n",
            "dense_4 (Dense)              (None, 7)                 77        \n",
            "=================================================================\n",
            "Total params: 1,685\n",
            "Trainable params: 1,685\n",
            "Non-trainable params: 0\n",
            "_________________________________________________________________\n",
            "None\n"
          ],
          "name": "stdout"
        }
      ]
    },
    {
      "cell_type": "code",
      "metadata": {
        "colab": {
          "base_uri": "https://localhost:8080/"
        },
        "id": "F3vsPmD6J3Nt",
        "outputId": "ddf56c48-b70c-401e-9825-4a2479691f11"
      },
      "source": [
        "callback = tf.keras.callbacks.EarlyStopping(monitor='loss',mode='min', patience=5)\n",
        "Adam = tf.optimizers.Adam(lr=0.003, beta_1=0.9, beta_2=0.997, epsilon=1e-08, decay=0.0)\n",
        "model.compile(optimizer=Adam, \n",
        "              loss=tf.keras.losses.CategoricalCrossentropy(from_logits=True),\n",
        "              metrics = [tf.keras.metrics.Precision(),tf.keras.metrics.Recall()]\n",
        "              )\n",
        "history = model.fit(x=x_train, y=y_train,  epochs=50,batch_size =5, callbacks=[callback] )"
      ],
      "execution_count": 104,
      "outputs": [
        {
          "output_type": "stream",
          "text": [
            "Epoch 1/50\n",
            "338/338 [==============================] - 1s 2ms/step - loss: 0.8869 - precision_4: 0.7310 - recall_4: 0.4262\n",
            "Epoch 2/50\n",
            "338/338 [==============================] - 1s 2ms/step - loss: 0.9114 - precision_4: 0.7941 - recall_4: 0.4562\n",
            "Epoch 3/50\n",
            "338/338 [==============================] - 1s 2ms/step - loss: 1.0702 - precision_4: 0.7316 - recall_4: 0.3736\n",
            "Epoch 4/50\n",
            "338/338 [==============================] - 1s 2ms/step - loss: 0.9161 - precision_4: 0.7683 - recall_4: 0.4221\n",
            "Epoch 5/50\n",
            "338/338 [==============================] - 1s 2ms/step - loss: 0.8301 - precision_4: 0.7667 - recall_4: 0.4664\n",
            "Epoch 6/50\n",
            "338/338 [==============================] - 1s 2ms/step - loss: 0.8398 - precision_4: 0.7859 - recall_4: 0.4663\n",
            "Epoch 7/50\n",
            "338/338 [==============================] - 1s 2ms/step - loss: 0.9007 - precision_4: 0.7374 - recall_4: 0.4386\n",
            "Epoch 8/50\n",
            "338/338 [==============================] - 1s 2ms/step - loss: 0.8805 - precision_4: 0.7652 - recall_4: 0.4539\n",
            "Epoch 9/50\n",
            "338/338 [==============================] - 1s 2ms/step - loss: 0.8310 - precision_4: 0.8161 - recall_4: 0.4646\n",
            "Epoch 10/50\n",
            "338/338 [==============================] - 1s 2ms/step - loss: 0.8593 - precision_4: 0.7609 - recall_4: 0.4682\n",
            "Epoch 11/50\n",
            "338/338 [==============================] - 1s 2ms/step - loss: 0.9529 - precision_4: 0.7385 - recall_4: 0.3813\n"
          ],
          "name": "stdout"
        }
      ]
    },
    {
      "cell_type": "code",
      "metadata": {
        "id": "AOO6dFt3nXIE"
      },
      "source": [
        "callback = tf.keras.callbacks.EarlyStopping(monitor='acc',mode='max', patience=5)\n",
        "Adam = tf.optimizers.Adam(lr=0.003, beta_1=0.9, beta_2=0.997, epsilon=1e-08, decay=0.0)\n",
        "model.compile(optimizer=Adam, \n",
        "              loss=tf.keras.losses.CategoricalCrossentropy(from_logits=True),\n",
        "              metrics = [tf.keras.metrics.Precision(),tf.keras.metrics.Recall(),tf.keras.metrics.Accuracy()]\n",
        "              )\n",
        "history = model.fit(x=x_train, y=y_train,  epochs=50,batch_size =5, callbacks=[callback] )"
      ],
      "execution_count": null,
      "outputs": []
    },
    {
      "cell_type": "markdown",
      "metadata": {
        "id": "AovqfUqLerah"
      },
      "source": [
        "**指標F1**"
      ]
    },
    {
      "cell_type": "code",
      "metadata": {
        "colab": {
          "base_uri": "https://localhost:8080/"
        },
        "id": "rKPUOSYxn2Wg",
        "outputId": "58971145-6e78-4575-c036-7d4624bf784d"
      },
      "source": [
        "preds = model.evaluate(x = x_test, y = y_test)\n",
        "\n",
        "F1 = 2 * (preds[1] * preds[2]) / (preds[1] + preds[2])\n",
        "print(preds)\n",
        "print(F1)\n"
      ],
      "execution_count": 105,
      "outputs": [
        {
          "output_type": "stream",
          "text": [
            "14/14 [==============================] - 0s 1ms/step - loss: 0.5269 - precision_4: 0.8619 - recall_4: 0.6785\n",
            "[0.526938259601593, 0.8618618845939636, 0.6784870028495789]\n",
            "0.7592592713446303\n"
          ],
          "name": "stdout"
        }
      ]
    },
    {
      "cell_type": "code",
      "metadata": {
        "id": "GV730MDApAwS"
      },
      "source": [
        "\n",
        "pd.DataFrame(history.history).plot(figsize = (8, 5))\n",
        "plt.grid(True)\n",
        "plt.gca().set_ylim(0, 2.5)\n",
        "plt.show()\n"
      ],
      "execution_count": null,
      "outputs": []
    },
    {
      "cell_type": "markdown",
      "metadata": {
        "id": "24RbwjHE9FMd"
      },
      "source": [
        "## 數值"
      ]
    },
    {
      "cell_type": "code",
      "metadata": {
        "id": "bSL6NxAx9BLT"
      },
      "source": [
        "input_layer = Input(shape=(x_train.shape[1],))\n",
        "dense_layer_1 =Dense(32,kernel_initializer=tf.keras.initializers.GlorotNormal() ,activation='relu', name =\"nl1\" )(input_layer)\n",
        "dense_layer_2 = Dense(16,kernel_initializer=tf.keras.initializers.GlorotNormal(),activation='relu', name =\"nl2\" )(dense_layer_1)\n",
        "dense_layer_2 = Dense(10,activation='relu', name =\"nl3\" )(dense_layer_2)\n",
        "dense_layer_2 = Dense(10,activation='relu', name =\"nl4\" )(dense_layer_2)\n",
        "dense_layer_2 = Dropout(0.5)(dense_layer_2)\n",
        "output = Dense(y_train.shape[1],activation='softmax')(dense_layer_2)\n",
        "model = Model(inputs=input_layer, outputs=output)\n",
        "print(model.summary())"
      ],
      "execution_count": null,
      "outputs": []
    },
    {
      "cell_type": "markdown",
      "metadata": {
        "id": "RaZO7ygdw2__"
      },
      "source": [
        ""
      ]
    },
    {
      "cell_type": "code",
      "metadata": {
        "id": "ehetB431w5G4"
      },
      "source": [
        "import numpy as np\n",
        "import pandas as pd\n",
        "import matplotlib.pyplot as plt\n",
        "from sklearn.model_selection import train_test_split\n",
        "from sklearn.metrics import f1_score, recall_score, precision_score\n",
        "import tensorflow as tf\n",
        "from tensorflow.keras.models import Model,Sequential\n",
        "from tensorflow.keras.layers import Input, Dense, Activation,Dropout\n",
        "\n",
        "df_white = pd.read_csv('https://archive.ics.uci.edu/ml/machine-learning-databases/wine-quality/winequality-white.csv',sep=\";\")\n",
        "# df_red= pd.read_csv('wine-quality/winequality-red.csv',sep=\";\")\n",
        "# df= pd.concat([df_red,df_white],axis=0)\n",
        "df=df_white\n",
        "\n"
      ],
      "execution_count": null,
      "outputs": []
    },
    {
      "cell_type": "code",
      "metadata": {
        "id": "5aU1cnduxLli"
      },
      "source": [
        "df"
      ],
      "execution_count": null,
      "outputs": []
    },
    {
      "cell_type": "code",
      "metadata": {
        "id": "9CDc1nNVw-mC"
      },
      "source": [
        "x=df.drop('quality',axis=1)\n",
        "y=df['quality']\n",
        "y=pd.get_dummies(y)\n",
        "x_train,x_test,y_train,y_test = train_test_split(x,y,test_size=0.2)\n",
        "x_train, x_val, y_train, y_val = train_test_split(x_train, y_train, test_size=0.15)\n",
        "\n",
        "\n",
        "x_train = tf.convert_to_tensor(x_train,dtype=tf.float32)\n",
        "y_train = tf.convert_to_tensor(y_train,dtype=tf.int32)\n",
        "\n",
        "x_val = tf.convert_to_tensor(x_val,dtype=tf.float32)\n",
        "y_val = tf.convert_to_tensor(y_val,dtype=tf.int32)\n",
        "\n",
        "x_test = tf.convert_to_tensor(x_test,dtype=tf.float32)\n",
        "y_test = tf.convert_to_tensor(y_test,dtype=tf.int32)\n"
      ],
      "execution_count": null,
      "outputs": []
    },
    {
      "cell_type": "code",
      "metadata": {
        "id": "6yJ0ZbdIxYwu"
      },
      "source": [
        "\n",
        "input_layer = Input(shape=(x_train.shape[1],))\n",
        "dense_layer_1 =Dense(22,kernel_initializer=tf.keras.initializers.GlorotNormal() ,activation='relu', name =\"nl1\" )(input_layer)\n",
        "dense_layer_2 = Dense(11,kernel_initializer=tf.keras.initializers.GlorotNormal(),activation='relu', name =\"nl2\" )(dense_layer_1)\n",
        "dense_layer_2 = Dense(10,activation='relu', name =\"nl3\" )(dense_layer_2)\n",
        "dense_layer_2 = Dense(10,activation='relu', name =\"nl4\" )(dense_layer_2)\n",
        "dense_layer_2 = Dropout(0.5)(dense_layer_2)\n",
        "dense_layer_2 = Dense(10,activation='relu', name =\"nl5\" )(dense_layer_2)\n",
        "output = Dense(y_train.shape[1],activation='softmax')(dense_layer_2)\n",
        "model = Model(inputs=input_layer, outputs=output)"
      ],
      "execution_count": null,
      "outputs": []
    },
    {
      "cell_type": "code",
      "metadata": {
        "id": "OUO8fRC1xalV"
      },
      "source": [
        "\n",
        "model.summary()\n"
      ],
      "execution_count": null,
      "outputs": []
    },
    {
      "cell_type": "code",
      "metadata": {
        "id": "GhSbXHAFxbkA"
      },
      "source": [
        "callback = tf.keras.callbacks.EarlyStopping(monitor='loss',mode='min', patience=5)\n",
        "Adam = tf.optimizers.Adam(lr=0.003, beta_1=0.9, beta_2=0.997, epsilon=1e-08, decay=0.0)\n",
        "model.compile(optimizer=Adam, \n",
        "              loss=tf.keras.losses.CategoricalCrossentropy(from_logits=True),\n",
        "              metrics = [tf.keras.metrics.PrecisionAtRecall(),tf.keras.metrics.Recall(),tf.keras.metrics.CategoricalAccuracy()]\n",
        "              )\n",
        "history = model.fit(x=x_train, y=y_train,  epochs=30,batch_size =5, callbacks=[callback])\n"
      ],
      "execution_count": null,
      "outputs": []
    },
    {
      "cell_type": "code",
      "metadata": {
        "id": "k4YGOj8bxeIC"
      },
      "source": [
        "y_predicted = model.predict(x_test)\n",
        "history.history\n",
        "\n",
        "\n",
        "# y_predicted = model.predict(x_test)\n",
        "preds = model.evaluate(x = x_test, y = y_test)\n",
        "print()\n",
        "print(preds)\n",
        "\n"
      ],
      "execution_count": null,
      "outputs": []
    },
    {
      "cell_type": "code",
      "metadata": {
        "id": "kTy9mO41xvKb"
      },
      "source": [
        "pd.DataFrame(history.history).plot(figsize = (8, 5))\n",
        "plt.grid(True)\n",
        "plt.gca().set_ylim(0, 2.5)\n",
        "plt.show()"
      ],
      "execution_count": null,
      "outputs": []
    }
  ]
}