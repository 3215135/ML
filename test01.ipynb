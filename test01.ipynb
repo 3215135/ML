{
  "nbformat": 4,
  "nbformat_minor": 0,
  "metadata": {
    "colab": {
      "name": "test01.ipynb",
      "provenance": [],
      "collapsed_sections": [],
      "toc_visible": true,
      "mount_file_id": "1zNJ1N5u7sK3S85sDfVc5Io98aKFDA0gY",
      "authorship_tag": "ABX9TyNdZFtdb0G5CsXD8vj4UfOa",
      "include_colab_link": true
    },
    "kernelspec": {
      "name": "python3",
      "display_name": "Python 3"
    }
  },
  "cells": [
    {
      "cell_type": "markdown",
      "metadata": {
        "id": "view-in-github",
        "colab_type": "text"
      },
      "source": [
        "<a href=\"https://colab.research.google.com/github/m10923039/m10923039_hw01/blob/main/test01.ipynb\" target=\"_parent\"><img src=\"https://colab.research.google.com/assets/colab-badge.svg\" alt=\"Open In Colab\"/></a>"
      ]
    },
    {
      "cell_type": "code",
      "metadata": {
        "id": "5gL9MN9NjvT2"
      },
      "source": [
        "import numpy as np\n",
        "import pandas as pd\n",
        "import matplotlib.pyplot as plt\n",
        "from sklearn.model_selection import train_test_split\n",
        "from sklearn.metrics import f1_score, recall_score, precision_score\n",
        "from sklearn.metrics import precision_recall_fscore_support\n",
        "import tensorflow as tf\n",
        "from tensorflow.keras.models import Model,Sequential\n",
        "from tensorflow.keras.layers import Input, Dense, Activation,Dropout"
      ],
      "execution_count": 1,
      "outputs": []
    },
    {
      "cell_type": "markdown",
      "metadata": {
        "id": "Bbf-r0888LBG"
      },
      "source": [
        "讀取檔案"
      ]
    },
    {
      "cell_type": "code",
      "metadata": {
        "id": "4VFeJViabU9n"
      },
      "source": [
        "df_data=pd.read_csv('/content/drive/MyDrive/ObesityDataSet_raw_and_data_sinthetic.csv')"
      ],
      "execution_count": 2,
      "outputs": []
    },
    {
      "cell_type": "markdown",
      "metadata": {
        "id": "FBeN4_n98QnY"
      },
      "source": [
        "# **資料前處理**\n",
        "\n",
        "## lable encoding\n",
        "\n",
        "## family_history_with_overweight 超重的家族病史(是/否) <br>\n",
        "no  -> 0 <br>\n",
        "yes  -> 1\n",
        "## SMOKE 抽煙(是/否) <br>\n",
        "no  -> 0 <br>\n",
        "yes  -> 1 <br>\n",
        "## SCC 卡路里消耗監視(是/否)\n",
        "no  -> 0 <br>\n",
        "yes  -> 1 <br>\n",
        "## CAEC 兩餐之間的食物消耗量\n",
        "No  ->  1 <br>\n",
        "no  ->  1 <br>\n",
        "Sometimes  ->  2 <br>\n",
        "Frequently  ->  3 <br>\n",
        "Always  ->  4 <br>\n",
        "## CALC 酒精消耗量\n",
        "No  ->  1 <br>\n",
        "no  ->  1 <br>\n",
        "Sometimes  ->  2 <br>\n",
        "Frequently  ->  3 <br>\n",
        "Always  ->  4 <br>\n",
        "# one hot 欄位\n",
        "Gender 性別<br>\n",
        "MTRANS 交通工具<br>"
      ]
    },
    {
      "cell_type": "code",
      "metadata": {
        "id": "ivA4wv_Xb7vZ"
      },
      "source": [
        "# df_data\n",
        "df_data.loc()[df_data['family_history_with_overweight']=='no','family_history_with_overweight']=0\n",
        "df_data.loc()[df_data['family_history_with_overweight']=='yes','family_history_with_overweight']=1\n",
        "\n",
        "df_data.loc()[df_data['FAVC']=='no','FAVC']=0\n",
        "df_data.loc()[df_data['FAVC']=='yes','FAVC']=1\n",
        "\n",
        "df_data.loc()[df_data['SMOKE']=='no','SMOKE']=0\n",
        "df_data.loc()[df_data['SMOKE']=='yes','SMOKE']=1\n",
        "\n",
        "df_data.loc()[df_data['SCC']=='no','SCC']=0\n",
        "df_data.loc()[df_data['SCC']=='yes','SCC']=1\n",
        "\n",
        "df_data.loc()[df_data['CAEC']=='No','CAEC']=1\n",
        "df_data.loc()[df_data['CAEC']=='no','CAEC']=1\n",
        "df_data.loc()[df_data['CAEC']=='Sometimes','CAEC']=2\n",
        "df_data.loc()[df_data['CAEC']=='Frequently','CAEC']=3\n",
        "df_data.loc()[df_data['CAEC']=='Always','CAEC']=4\n",
        "\n",
        "df_data.loc()[df_data['CALC']=='no','CALC']=1\n",
        "df_data.loc()[df_data['CALC']=='Sometimes','CALC']=2\n",
        "df_data.loc()[df_data['CALC']=='Frequently','CALC']=3\n",
        "df_data.loc()[df_data['CALC']=='Always','CALC']=4\n",
        "\n",
        "df_data[['family_history_with_overweight', 'FAVC', 'CAEC', 'SMOKE', 'SCC','CALC']] =df_data[['family_history_with_overweight', 'FAVC', 'CAEC', 'SMOKE', 'SCC','CALC']].astype(int)\n",
        "\n",
        "df_data.loc()[df_data['NObeyesdad']=='Insufficient_Weight','NObeyesdad']=1\n",
        "df_data.loc()[df_data['NObeyesdad']=='Normal_Weight','NObeyesdad']=2\n",
        "df_data.loc()[df_data['NObeyesdad']=='Obesity_Type_I','NObeyesdad']=3\n",
        "df_data.loc()[df_data['NObeyesdad']=='Obesity_Type_II','NObeyesdad']=4\n",
        "df_data.loc()[df_data['NObeyesdad']=='Obesity_Type_III','NObeyesdad']=5\n",
        "df_data.loc()[df_data['NObeyesdad']=='Overweight_Level_I','NObeyesdad']=6\n",
        "df_data.loc()[df_data['NObeyesdad']=='Overweight_Level_II','NObeyesdad']=7\n"
      ],
      "execution_count": 3,
      "outputs": []
    },
    {
      "cell_type": "code",
      "metadata": {
        "id": "lAROLOh3ObPe"
      },
      "source": [
        "df_data"
      ],
      "execution_count": null,
      "outputs": []
    },
    {
      "cell_type": "code",
      "metadata": {
        "id": "GNTx1F-1MNq5"
      },
      "source": [
        "df_x=df_data.drop(['NObeyesdad'],axis=1)\n",
        "df_y=df_data.loc[:,'NObeyesdad']\n",
        "\n",
        "df_x = pd.get_dummies(df_x)\n",
        "df_y = pd.get_dummies(df_y)\n",
        "\n",
        "x_train,x_test,y_train,y_test = train_test_split(df_x,df_y,test_size=0.2)\n",
        "\n"
      ],
      "execution_count": 4,
      "outputs": []
    },
    {
      "cell_type": "code",
      "metadata": {
        "id": "8876_U1PktZb"
      },
      "source": [
        "x_train.dtypes"
      ],
      "execution_count": null,
      "outputs": []
    },
    {
      "cell_type": "code",
      "metadata": {
        "id": "s2IDb6trhLnJ"
      },
      "source": [
        "x_train"
      ],
      "execution_count": null,
      "outputs": []
    },
    {
      "cell_type": "code",
      "metadata": {
        "id": "LMV29Xm8w2fA"
      },
      "source": [
        "y_train"
      ],
      "execution_count": null,
      "outputs": []
    },
    {
      "cell_type": "code",
      "metadata": {
        "id": "G5T5Rog1RrtZ"
      },
      "source": [
        "x_test"
      ],
      "execution_count": null,
      "outputs": []
    },
    {
      "cell_type": "code",
      "metadata": {
        "id": "WrBKPOGcSCow"
      },
      "source": [
        "y_test"
      ],
      "execution_count": null,
      "outputs": []
    },
    {
      "cell_type": "code",
      "metadata": {
        "id": "7KLCAXAUkdgV",
        "colab": {
          "base_uri": "https://localhost:8080/"
        },
        "outputId": "d45374f6-53f3-42d1-bbf7-e8e4a77e8998"
      },
      "source": [
        "input_layer = Input(shape=(x_train.shape[1],))\n",
        "dense_layer_1 =Dense(32,kernel_initializer=tf.keras.initializers.GlorotNormal() ,activation='relu', name =\"nl1\" )(input_layer)\n",
        "dense_layer_2 = Dense(16,kernel_initializer=tf.keras.initializers.GlorotNormal(),activation='relu', name =\"nl2\" )(dense_layer_1)\n",
        "dense_layer_2 = Dense(10,activation='relu', name =\"nl3\" )(dense_layer_2)\n",
        "dense_layer_2 = Dense(10,activation='relu', name =\"nl4\" )(dense_layer_2)\n",
        "dense_layer_2 = Dropout(0.5)(dense_layer_2)\n",
        "output = Dense(y_train.shape[1],activation='softmax')(dense_layer_2)\n",
        "model = Model(inputs=input_layer, outputs=output)\n",
        "print(model.summary())\n"
      ],
      "execution_count": 5,
      "outputs": [
        {
          "output_type": "stream",
          "text": [
            "Model: \"model\"\n",
            "_________________________________________________________________\n",
            "Layer (type)                 Output Shape              Param #   \n",
            "=================================================================\n",
            "input_1 (InputLayer)         [(None, 21)]              0         \n",
            "_________________________________________________________________\n",
            "nl1 (Dense)                  (None, 32)                704       \n",
            "_________________________________________________________________\n",
            "nl2 (Dense)                  (None, 16)                528       \n",
            "_________________________________________________________________\n",
            "nl3 (Dense)                  (None, 10)                170       \n",
            "_________________________________________________________________\n",
            "nl4 (Dense)                  (None, 10)                110       \n",
            "_________________________________________________________________\n",
            "dropout (Dropout)            (None, 10)                0         \n",
            "_________________________________________________________________\n",
            "dense (Dense)                (None, 7)                 77        \n",
            "=================================================================\n",
            "Total params: 1,589\n",
            "Trainable params: 1,589\n",
            "Non-trainable params: 0\n",
            "_________________________________________________________________\n",
            "None\n"
          ],
          "name": "stdout"
        }
      ]
    },
    {
      "cell_type": "code",
      "metadata": {
        "id": "F3vsPmD6J3Nt",
        "colab": {
          "base_uri": "https://localhost:8080/"
        },
        "outputId": "f1bdd300-15e7-4e6b-8c74-8ddacc2869d2"
      },
      "source": [
        "# model.reset_metrics()\n",
        "# model.reset_states()\n",
        "\n",
        "callback = tf.keras.callbacks.EarlyStopping(monitor='precision_3',mode='max', patience=15 ,restore_best_weights=True)\n",
        "Adam = tf.optimizers.Adam(lr=0.003, beta_1=0.9, beta_2=0.997, epsilon=1e-08, decay=0.0)\n",
        "model.compile(optimizer=Adam, \n",
        "              loss=tf.keras.losses.CategoricalCrossentropy(from_logits=True),\n",
        "              metrics = [tf.keras.metrics.Precision(),tf.keras.metrics.Recall()]\n",
        "              )\n",
        "\n",
        "history = model.fit(x=x_train, y=y_train,  epochs=50,batch_size =3, callbacks=[callback] )"
      ],
      "execution_count": 12,
      "outputs": [
        {
          "output_type": "stream",
          "text": [
            "Epoch 1/50\n",
            "563/563 [==============================] - 2s 2ms/step - loss: 0.9212 - precision_3: 0.7967 - recall_3: 0.4427\n",
            "Epoch 2/50\n",
            "563/563 [==============================] - 1s 2ms/step - loss: 0.9204 - precision_3: 0.7726 - recall_3: 0.3997\n",
            "Epoch 3/50\n",
            "563/563 [==============================] - 1s 2ms/step - loss: 0.9017 - precision_3: 0.7699 - recall_3: 0.4177\n",
            "Epoch 4/50\n",
            "563/563 [==============================] - 1s 1ms/step - loss: 0.8797 - precision_3: 0.8108 - recall_3: 0.4508\n",
            "Epoch 5/50\n",
            "563/563 [==============================] - 1s 2ms/step - loss: 0.8804 - precision_3: 0.7761 - recall_3: 0.4366\n",
            "Epoch 6/50\n",
            "563/563 [==============================] - 1s 2ms/step - loss: 0.8857 - precision_3: 0.7842 - recall_3: 0.4273\n",
            "Epoch 7/50\n",
            "563/563 [==============================] - 1s 1ms/step - loss: 0.8627 - precision_3: 0.7780 - recall_3: 0.4228\n",
            "Epoch 8/50\n",
            "563/563 [==============================] - 1s 2ms/step - loss: 0.8702 - precision_3: 0.7915 - recall_3: 0.4196\n",
            "Epoch 9/50\n",
            "563/563 [==============================] - 1s 2ms/step - loss: 0.9286 - precision_3: 0.7742 - recall_3: 0.4727\n",
            "Epoch 10/50\n",
            "563/563 [==============================] - 1s 2ms/step - loss: 0.9593 - precision_3: 0.7510 - recall_3: 0.4297\n",
            "Epoch 11/50\n",
            "563/563 [==============================] - 1s 2ms/step - loss: 0.9561 - precision_3: 0.6560 - recall_3: 0.3873\n",
            "Epoch 12/50\n",
            "563/563 [==============================] - 1s 2ms/step - loss: 0.7870 - precision_3: 0.7711 - recall_3: 0.4859\n",
            "Epoch 13/50\n",
            "563/563 [==============================] - 1s 2ms/step - loss: 1.0068 - precision_3: 0.7247 - recall_3: 0.4225\n",
            "Epoch 14/50\n",
            "563/563 [==============================] - 1s 2ms/step - loss: 0.9069 - precision_3: 0.7379 - recall_3: 0.4482\n",
            "Epoch 15/50\n",
            "563/563 [==============================] - 1s 2ms/step - loss: 0.9561 - precision_3: 0.7096 - recall_3: 0.3913\n",
            "Epoch 16/50\n",
            "563/563 [==============================] - 1s 2ms/step - loss: 0.8945 - precision_3: 0.7576 - recall_3: 0.4784\n",
            "Epoch 17/50\n",
            "563/563 [==============================] - 1s 2ms/step - loss: 0.7923 - precision_3: 0.7996 - recall_3: 0.4736\n",
            "Epoch 18/50\n",
            "563/563 [==============================] - 1s 2ms/step - loss: 0.8525 - precision_3: 0.7470 - recall_3: 0.5177\n",
            "Epoch 19/50\n",
            "563/563 [==============================] - 1s 2ms/step - loss: 0.7725 - precision_3: 0.7992 - recall_3: 0.5006\n",
            "Epoch 20/50\n",
            "563/563 [==============================] - 1s 2ms/step - loss: 0.8454 - precision_3: 0.7346 - recall_3: 0.4917\n",
            "Epoch 21/50\n",
            "563/563 [==============================] - 1s 2ms/step - loss: 0.8840 - precision_3: 0.7703 - recall_3: 0.4785\n",
            "Epoch 22/50\n",
            "563/563 [==============================] - 1s 2ms/step - loss: 0.9103 - precision_3: 0.7186 - recall_3: 0.4423\n",
            "Epoch 23/50\n",
            "563/563 [==============================] - 1s 2ms/step - loss: 0.8571 - precision_3: 0.7437 - recall_3: 0.5265\n"
          ],
          "name": "stdout"
        }
      ]
    },
    {
      "cell_type": "code",
      "metadata": {
        "id": "Y0A4R5gNUgp1"
      },
      "source": [
        ""
      ],
      "execution_count": null,
      "outputs": []
    },
    {
      "cell_type": "markdown",
      "metadata": {
        "id": "AovqfUqLerah"
      },
      "source": [
        "**指標F1**"
      ]
    },
    {
      "cell_type": "code",
      "metadata": {
        "id": "rKPUOSYxn2Wg",
        "colab": {
          "base_uri": "https://localhost:8080/"
        },
        "outputId": "477d2662-f37e-4b0d-ac88-313421722f6f"
      },
      "source": [
        "preds = model.evaluate(x = x_test, y =y_test )\n",
        "\n",
        "F1 = 2 * (preds[1] * preds[2]) / (preds[1] + preds[2])\n",
        "print('Precision', preds[1])\n",
        "print('Recall}', preds[2])\n",
        "print('F1',F1)\n"
      ],
      "execution_count": 13,
      "outputs": [
        {
          "output_type": "stream",
          "text": [
            "14/14 [==============================] - 0s 1ms/step - loss: 0.6254 - precision_3: 0.8328 - recall_3: 0.6241\n",
            "Precision 0.8328076004981995\n",
            "Recall} 0.6241135001182556\n",
            "F1 0.7135135406469062\n"
          ],
          "name": "stdout"
        }
      ]
    },
    {
      "cell_type": "code",
      "metadata": {
        "id": "GV730MDApAwS"
      },
      "source": [
        "\n",
        "# pd.DataFrame(history.history).plot(figsize = (8, 5))\n",
        "# plt.grid(True)\n",
        "# plt.gca().set_ylim(0, 2.5)\n",
        "# plt.show()\n"
      ],
      "execution_count": null,
      "outputs": []
    },
    {
      "cell_type": "code",
      "metadata": {
        "id": "ksGUfw0X-vFg"
      },
      "source": [
        "y_predict=model.predict(x_test)\n"
      ],
      "execution_count": null,
      "outputs": []
    },
    {
      "cell_type": "code",
      "metadata": {
        "id": "4_GbJUmZ-8yP"
      },
      "source": [
        "y_predict"
      ],
      "execution_count": null,
      "outputs": []
    },
    {
      "cell_type": "code",
      "metadata": {
        "id": "bFwzQF0N_Pr0"
      },
      "source": [
        "# y_predict[y_predict.max(axis=1)]=y_predict.max(axis=1)\n",
        "# arr.max(axis=1)\n",
        "np.argmax(y_predict[0])\n",
        "np.argmax(y_test[0])"
      ],
      "execution_count": null,
      "outputs": []
    },
    {
      "cell_type": "code",
      "metadata": {
        "id": "QI7mnOuXQ2rp"
      },
      "source": [
        ""
      ],
      "execution_count": null,
      "outputs": []
    }
  ]
}