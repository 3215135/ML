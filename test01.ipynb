{
  "nbformat": 4,
  "nbformat_minor": 0,
  "metadata": {
    "colab": {
      "name": "test01.ipynb",
      "provenance": [],
      "collapsed_sections": [],
      "toc_visible": true,
      "authorship_tag": "ABX9TyPKVw9nak3CDtO0XtvB07vy",
      "include_colab_link": true
    },
    "kernelspec": {
      "name": "python3",
      "display_name": "Python 3"
    }
  },
  "cells": [
    {
      "cell_type": "markdown",
      "metadata": {
        "id": "view-in-github",
        "colab_type": "text"
      },
      "source": [
        "<a href=\"https://colab.research.google.com/github/m10923039/m10923039_hw01/blob/main/test01.ipynb\" target=\"_parent\"><img src=\"https://colab.research.google.com/assets/colab-badge.svg\" alt=\"Open In Colab\"/></a>"
      ]
    },
    {
      "cell_type": "code",
      "metadata": {
        "id": "5gL9MN9NjvT2"
      },
      "source": [
        "import numpy as np\n",
        "import pandas as pd\n",
        "import matplotlib.pyplot as plt\n",
        "from sklearn.model_selection import train_test_split\n",
        "from sklearn.metrics import f1_score, recall_score, precision_score\n",
        "from sklearn.metrics import precision_recall_fscore_support\n",
        "import tensorflow as tf\n",
        "from tensorflow.keras.models import Model,Sequential\n",
        "from tensorflow.keras.layers import Input, Dense, Activation,Dropout"
      ],
      "execution_count": null,
      "outputs": []
    },
    {
      "cell_type": "markdown",
      "metadata": {
        "id": "Bbf-r0888LBG"
      },
      "source": [
        "讀取檔案"
      ]
    },
    {
      "cell_type": "code",
      "metadata": {
        "id": "4VFeJViabU9n"
      },
      "source": [
        "df_data=pd.read_csv('/content/ObesityDataSet_raw_and_data_sinthetic.csv')"
      ],
      "execution_count": null,
      "outputs": []
    },
    {
      "cell_type": "code",
      "metadata": {
        "id": "miRJD76qw1yO",
        "colab": {
          "base_uri": "https://localhost:8080/"
        },
        "outputId": "d39d25e2-b843-4899-e23a-ee2a46bcfba2"
      },
      "source": [
        "df_x=df_data.drop(['NObeyesdad'],axis=1)\n",
        "df_y=df_data.loc[:,'NObeyesdad']\n",
        "df_y.value_counts()\n",
        "df_x['CH2O'].value_counts()"
      ],
      "execution_count": null,
      "outputs": [
        {
          "output_type": "execute_result",
          "data": {
            "text/plain": [
              "2.000000    448\n",
              "1.000000    211\n",
              "3.000000    162\n",
              "1.636326      3\n",
              "2.825629      3\n",
              "           ... \n",
              "2.931438      1\n",
              "2.224914      1\n",
              "2.724099      1\n",
              "2.714091      1\n",
              "2.318736      1\n",
              "Name: CH2O, Length: 1268, dtype: int64"
            ]
          },
          "metadata": {
            "tags": []
          },
          "execution_count": 98
        }
      ]
    },
    {
      "cell_type": "markdown",
      "metadata": {
        "id": "FBeN4_n98QnY"
      },
      "source": [
        "## **資料前處理**"
      ]
    },
    {
      "cell_type": "code",
      "metadata": {
        "id": "ivA4wv_Xb7vZ"
      },
      "source": [
        "# df_x\n",
        "df_x.loc()[df_x['family_history_with_overweight']=='no','family_history_with_overweight']=0\n",
        "df_x.loc()[df_x['family_history_with_overweight']=='yes','family_history_with_overweight']=1\n",
        "\n",
        "df_x.loc()[df_x['FAVC']=='no','FAVC']=0\n",
        "df_x.loc()[df_x['FAVC']=='yes','FAVC']=1\n",
        "\n",
        "df_x.loc()[df_x['SMOKE']=='no','SMOKE']=0\n",
        "df_x.loc()[df_x['SMOKE']=='yes','SMOKE']=1\n",
        "\n",
        "df_x.loc()[df_x['SCC']=='no','SCC']=0\n",
        "df_x.loc()[df_x['SCC']=='yes','SCC']=1\n",
        "\n",
        "df_x.loc()[df_x['CAEC']=='No','CAEC']=1\n",
        "df_x.loc()[df_x['CAEC']=='no','CAEC']=1\n",
        "df_x.loc()[df_x['CAEC']=='Sometimes','CAEC']=2\n",
        "df_x.loc()[df_x['CAEC']=='Frequently','CAEC']=3\n",
        "df_x.loc()[df_x['CAEC']=='Always','CAEC']=4\n",
        "\n",
        "df_x.loc()[df_x['CALC']=='no','CALC']=1\n",
        "df_x.loc()[df_x['CALC']=='Sometimes','CALC']=2\n",
        "df_x.loc()[df_x['CALC']=='Frequently','CALC']=3\n",
        "df_x.loc()[df_x['CALC']=='Always','CALC']=4\n",
        "\n",
        "df_x[['family_history_with_overweight', 'FAVC', 'CAEC', 'SMOKE', 'SCC']] =df_x[['family_history_with_overweight', 'FAVC', 'CAEC', 'SMOKE', 'SCC']].astype(int)\n",
        "\n",
        "x = pd.get_dummies(df_x)\n",
        "y = pd.get_dummies(df_y)\n",
        "\n",
        "x_train,x_test,y_train,y_test = train_test_split(x,y,test_size=0.2)\n",
        "# x_train, x_val, y_train, y_val = train_test_split(x_train, y_train, test_size=0.15)"
      ],
      "execution_count": null,
      "outputs": []
    },
    {
      "cell_type": "code",
      "metadata": {
        "id": "8876_U1PktZb"
      },
      "source": [
        "df_x.dtypes"
      ],
      "execution_count": null,
      "outputs": []
    },
    {
      "cell_type": "code",
      "metadata": {
        "id": "s2IDb6trhLnJ"
      },
      "source": [
        "x_train"
      ],
      "execution_count": null,
      "outputs": []
    },
    {
      "cell_type": "code",
      "metadata": {
        "id": "LMV29Xm8w2fA"
      },
      "source": [
        "y_train"
      ],
      "execution_count": null,
      "outputs": []
    },
    {
      "cell_type": "code",
      "metadata": {
        "colab": {
          "base_uri": "https://localhost:8080/"
        },
        "id": "7KLCAXAUkdgV",
        "outputId": "c8a8e244-c531-45a2-b706-086755d72989"
      },
      "source": [
        "input_layer = Input(shape=(x_train.shape[1],))\n",
        "dense_layer_1 =Dense(32,kernel_initializer=tf.keras.initializers.GlorotNormal() ,activation='relu', name =\"nl1\" )(input_layer)\n",
        "dense_layer_2 = Dense(16,kernel_initializer=tf.keras.initializers.GlorotNormal(),activation='relu', name =\"nl2\" )(dense_layer_1)\n",
        "dense_layer_2 = Dense(10,activation='relu', name =\"nl3\" )(dense_layer_2)\n",
        "dense_layer_2 = Dense(10,activation='relu', name =\"nl4\" )(dense_layer_2)\n",
        "dense_layer_2 = Dropout(0.5)(dense_layer_2)\n",
        "output = Dense(y_train.shape[1],activation='softmax')(dense_layer_2)\n",
        "model = Model(inputs=input_layer, outputs=output)\n",
        "print(model.summary())"
      ],
      "execution_count": null,
      "outputs": [
        {
          "output_type": "stream",
          "text": [
            "Model: \"model_4\"\n",
            "_________________________________________________________________\n",
            "Layer (type)                 Output Shape              Param #   \n",
            "=================================================================\n",
            "input_5 (InputLayer)         [(None, 24)]              0         \n",
            "_________________________________________________________________\n",
            "nl1 (Dense)                  (None, 32)                800       \n",
            "_________________________________________________________________\n",
            "nl2 (Dense)                  (None, 16)                528       \n",
            "_________________________________________________________________\n",
            "nl3 (Dense)                  (None, 10)                170       \n",
            "_________________________________________________________________\n",
            "nl4 (Dense)                  (None, 10)                110       \n",
            "_________________________________________________________________\n",
            "dropout_4 (Dropout)          (None, 10)                0         \n",
            "_________________________________________________________________\n",
            "dense_4 (Dense)              (None, 7)                 77        \n",
            "=================================================================\n",
            "Total params: 1,685\n",
            "Trainable params: 1,685\n",
            "Non-trainable params: 0\n",
            "_________________________________________________________________\n",
            "None\n"
          ],
          "name": "stdout"
        }
      ]
    },
    {
      "cell_type": "code",
      "metadata": {
        "colab": {
          "base_uri": "https://localhost:8080/"
        },
        "id": "AOO6dFt3nXIE",
        "outputId": "505f5ccf-9ec9-459c-f9d4-c9cdeca4f7c6"
      },
      "source": [
        "callback = tf.keras.callbacks.EarlyStopping(monitor='acc',mode='max', patience=5)\n",
        "Adam = tf.optimizers.Adam(lr=0.003, beta_1=0.9, beta_2=0.997, epsilon=1e-08, decay=0.0)\n",
        "model.compile(optimizer=Adam, \n",
        "              loss=tf.keras.losses.CategoricalCrossentropy(from_logits=True),\n",
        "              metrics = [tf.keras.metrics.Precision(),tf.keras.metrics.Recall(),tf.keras.metrics.Accuracy()]\n",
        "              )\n",
        "history = model.fit(x=x_train, y=y_train,  epochs=50,batch_size =5, callbacks=[callback] )"
      ],
      "execution_count": null,
      "outputs": [
        {
          "output_type": "stream",
          "text": [
            "Epoch 1/50\n",
            "338/338 [==============================] - 1s 2ms/step - loss: 1.9877 - precision_3: 0.3253 - recall_3: 0.0167 - accuracy: 0.0000e+00\n",
            "WARNING:tensorflow:Early stopping conditioned on metric `acc` which is not available. Available metrics are: loss,precision_3,recall_3,accuracy\n",
            "Epoch 2/50\n",
            "338/338 [==============================] - 1s 2ms/step - loss: 1.6023 - precision_3: 0.5839 - recall_3: 0.0902 - accuracy: 0.0000e+00\n",
            "WARNING:tensorflow:Early stopping conditioned on metric `acc` which is not available. Available metrics are: loss,precision_3,recall_3,accuracy\n",
            "Epoch 3/50\n",
            "338/338 [==============================] - 1s 2ms/step - loss: 1.4143 - precision_3: 0.6604 - recall_3: 0.1739 - accuracy: 0.0000e+00\n",
            "WARNING:tensorflow:Early stopping conditioned on metric `acc` which is not available. Available metrics are: loss,precision_3,recall_3,accuracy\n",
            "Epoch 4/50\n",
            "338/338 [==============================] - 1s 2ms/step - loss: 1.3811 - precision_3: 0.6153 - recall_3: 0.1509 - accuracy: 1.1281e-04\n",
            "WARNING:tensorflow:Early stopping conditioned on metric `acc` which is not available. Available metrics are: loss,precision_3,recall_3,accuracy\n",
            "Epoch 5/50\n",
            "338/338 [==============================] - 1s 2ms/step - loss: 1.2601 - precision_3: 0.6886 - recall_3: 0.2251 - accuracy: 0.0014\n",
            "WARNING:tensorflow:Early stopping conditioned on metric `acc` which is not available. Available metrics are: loss,precision_3,recall_3,accuracy\n",
            "Epoch 6/50\n",
            "338/338 [==============================] - 1s 2ms/step - loss: 1.2056 - precision_3: 0.7149 - recall_3: 0.2586 - accuracy: 0.0047\n",
            "WARNING:tensorflow:Early stopping conditioned on metric `acc` which is not available. Available metrics are: loss,precision_3,recall_3,accuracy\n",
            "Epoch 7/50\n",
            "338/338 [==============================] - 1s 2ms/step - loss: 1.1872 - precision_3: 0.7334 - recall_3: 0.2701 - accuracy: 0.0085\n",
            "WARNING:tensorflow:Early stopping conditioned on metric `acc` which is not available. Available metrics are: loss,precision_3,recall_3,accuracy\n",
            "Epoch 8/50\n",
            "338/338 [==============================] - 1s 2ms/step - loss: 1.1160 - precision_3: 0.7349 - recall_3: 0.2914 - accuracy: 0.0130\n",
            "WARNING:tensorflow:Early stopping conditioned on metric `acc` which is not available. Available metrics are: loss,precision_3,recall_3,accuracy\n",
            "Epoch 9/50\n",
            "338/338 [==============================] - 1s 2ms/step - loss: 1.1581 - precision_3: 0.7390 - recall_3: 0.2685 - accuracy: 0.0112\n",
            "WARNING:tensorflow:Early stopping conditioned on metric `acc` which is not available. Available metrics are: loss,precision_3,recall_3,accuracy\n",
            "Epoch 10/50\n",
            "338/338 [==============================] - 1s 2ms/step - loss: 1.1209 - precision_3: 0.7515 - recall_3: 0.2960 - accuracy: 0.0185\n",
            "WARNING:tensorflow:Early stopping conditioned on metric `acc` which is not available. Available metrics are: loss,precision_3,recall_3,accuracy\n",
            "Epoch 11/50\n",
            "338/338 [==============================] - 1s 2ms/step - loss: 1.1614 - precision_3: 0.7321 - recall_3: 0.2675 - accuracy: 0.0205\n",
            "WARNING:tensorflow:Early stopping conditioned on metric `acc` which is not available. Available metrics are: loss,precision_3,recall_3,accuracy\n",
            "Epoch 12/50\n",
            "338/338 [==============================] - 1s 2ms/step - loss: 1.0907 - precision_3: 0.7620 - recall_3: 0.3034 - accuracy: 0.0249\n",
            "WARNING:tensorflow:Early stopping conditioned on metric `acc` which is not available. Available metrics are: loss,precision_3,recall_3,accuracy\n",
            "Epoch 13/50\n",
            "338/338 [==============================] - 1s 2ms/step - loss: 1.1380 - precision_3: 0.7537 - recall_3: 0.2733 - accuracy: 0.0306\n",
            "WARNING:tensorflow:Early stopping conditioned on metric `acc` which is not available. Available metrics are: loss,precision_3,recall_3,accuracy\n",
            "Epoch 14/50\n",
            "338/338 [==============================] - 1s 2ms/step - loss: 1.0247 - precision_3: 0.7407 - recall_3: 0.3273 - accuracy: 0.0384\n",
            "WARNING:tensorflow:Early stopping conditioned on metric `acc` which is not available. Available metrics are: loss,precision_3,recall_3,accuracy\n",
            "Epoch 15/50\n",
            "338/338 [==============================] - 1s 2ms/step - loss: 1.0420 - precision_3: 0.7648 - recall_3: 0.3143 - accuracy: 0.0518\n",
            "WARNING:tensorflow:Early stopping conditioned on metric `acc` which is not available. Available metrics are: loss,precision_3,recall_3,accuracy\n",
            "Epoch 16/50\n",
            "338/338 [==============================] - 1s 2ms/step - loss: 1.0788 - precision_3: 0.7624 - recall_3: 0.3057 - accuracy: 0.0570\n",
            "WARNING:tensorflow:Early stopping conditioned on metric `acc` which is not available. Available metrics are: loss,precision_3,recall_3,accuracy\n",
            "Epoch 17/50\n",
            "338/338 [==============================] - 1s 2ms/step - loss: 1.0450 - precision_3: 0.7876 - recall_3: 0.3407 - accuracy: 0.0742\n",
            "WARNING:tensorflow:Early stopping conditioned on metric `acc` which is not available. Available metrics are: loss,precision_3,recall_3,accuracy\n",
            "Epoch 18/50\n",
            "338/338 [==============================] - 1s 2ms/step - loss: 1.0064 - precision_3: 0.7775 - recall_3: 0.3676 - accuracy: 0.0697\n",
            "WARNING:tensorflow:Early stopping conditioned on metric `acc` which is not available. Available metrics are: loss,precision_3,recall_3,accuracy\n",
            "Epoch 19/50\n",
            "338/338 [==============================] - 1s 2ms/step - loss: 1.2778 - precision_3: 0.6903 - recall_3: 0.1893 - accuracy: 0.0410\n",
            "WARNING:tensorflow:Early stopping conditioned on metric `acc` which is not available. Available metrics are: loss,precision_3,recall_3,accuracy\n",
            "Epoch 20/50\n",
            "338/338 [==============================] - 1s 2ms/step - loss: 1.0880 - precision_3: 0.7706 - recall_3: 0.2987 - accuracy: 0.0646\n",
            "WARNING:tensorflow:Early stopping conditioned on metric `acc` which is not available. Available metrics are: loss,precision_3,recall_3,accuracy\n",
            "Epoch 21/50\n",
            "338/338 [==============================] - 1s 2ms/step - loss: 0.9885 - precision_3: 0.7844 - recall_3: 0.3598 - accuracy: 0.0751\n",
            "WARNING:tensorflow:Early stopping conditioned on metric `acc` which is not available. Available metrics are: loss,precision_3,recall_3,accuracy\n",
            "Epoch 22/50\n",
            "338/338 [==============================] - 1s 2ms/step - loss: 1.0079 - precision_3: 0.7506 - recall_3: 0.3408 - accuracy: 0.0870\n",
            "WARNING:tensorflow:Early stopping conditioned on metric `acc` which is not available. Available metrics are: loss,precision_3,recall_3,accuracy\n",
            "Epoch 23/50\n",
            "338/338 [==============================] - 1s 2ms/step - loss: 1.0041 - precision_3: 0.7688 - recall_3: 0.3475 - accuracy: 0.0832\n",
            "WARNING:tensorflow:Early stopping conditioned on metric `acc` which is not available. Available metrics are: loss,precision_3,recall_3,accuracy\n",
            "Epoch 24/50\n",
            "338/338 [==============================] - 1s 2ms/step - loss: 0.9714 - precision_3: 0.7696 - recall_3: 0.3874 - accuracy: 0.0940\n",
            "WARNING:tensorflow:Early stopping conditioned on metric `acc` which is not available. Available metrics are: loss,precision_3,recall_3,accuracy\n",
            "Epoch 25/50\n",
            "338/338 [==============================] - 1s 2ms/step - loss: 0.9273 - precision_3: 0.7848 - recall_3: 0.4195 - accuracy: 0.0938\n",
            "WARNING:tensorflow:Early stopping conditioned on metric `acc` which is not available. Available metrics are: loss,precision_3,recall_3,accuracy\n",
            "Epoch 26/50\n",
            "338/338 [==============================] - 1s 2ms/step - loss: 0.9235 - precision_3: 0.7645 - recall_3: 0.4013 - accuracy: 0.1053\n",
            "WARNING:tensorflow:Early stopping conditioned on metric `acc` which is not available. Available metrics are: loss,precision_3,recall_3,accuracy\n",
            "Epoch 27/50\n",
            "338/338 [==============================] - 1s 2ms/step - loss: 0.9448 - precision_3: 0.7428 - recall_3: 0.3839 - accuracy: 0.1086\n",
            "WARNING:tensorflow:Early stopping conditioned on metric `acc` which is not available. Available metrics are: loss,precision_3,recall_3,accuracy\n",
            "Epoch 28/50\n",
            "338/338 [==============================] - 1s 2ms/step - loss: 0.9214 - precision_3: 0.7708 - recall_3: 0.4127 - accuracy: 0.1146\n",
            "WARNING:tensorflow:Early stopping conditioned on metric `acc` which is not available. Available metrics are: loss,precision_3,recall_3,accuracy\n",
            "Epoch 29/50\n",
            "338/338 [==============================] - 1s 2ms/step - loss: 0.9733 - precision_3: 0.7532 - recall_3: 0.3666 - accuracy: 0.0989\n",
            "WARNING:tensorflow:Early stopping conditioned on metric `acc` which is not available. Available metrics are: loss,precision_3,recall_3,accuracy\n",
            "Epoch 30/50\n",
            "338/338 [==============================] - 1s 2ms/step - loss: 0.9400 - precision_3: 0.7486 - recall_3: 0.3610 - accuracy: 0.1025\n",
            "WARNING:tensorflow:Early stopping conditioned on metric `acc` which is not available. Available metrics are: loss,precision_3,recall_3,accuracy\n",
            "Epoch 31/50\n",
            "338/338 [==============================] - 1s 2ms/step - loss: 0.9122 - precision_3: 0.7761 - recall_3: 0.3870 - accuracy: 0.1156\n",
            "WARNING:tensorflow:Early stopping conditioned on metric `acc` which is not available. Available metrics are: loss,precision_3,recall_3,accuracy\n",
            "Epoch 32/50\n",
            "338/338 [==============================] - 1s 2ms/step - loss: 0.9024 - precision_3: 0.7688 - recall_3: 0.4294 - accuracy: 0.1165\n",
            "WARNING:tensorflow:Early stopping conditioned on metric `acc` which is not available. Available metrics are: loss,precision_3,recall_3,accuracy\n",
            "Epoch 33/50\n",
            "338/338 [==============================] - 1s 2ms/step - loss: 0.9442 - precision_3: 0.7894 - recall_3: 0.4146 - accuracy: 0.1156\n",
            "WARNING:tensorflow:Early stopping conditioned on metric `acc` which is not available. Available metrics are: loss,precision_3,recall_3,accuracy\n",
            "Epoch 34/50\n",
            "338/338 [==============================] - 1s 2ms/step - loss: 0.9078 - precision_3: 0.7706 - recall_3: 0.4056 - accuracy: 0.1085\n",
            "WARNING:tensorflow:Early stopping conditioned on metric `acc` which is not available. Available metrics are: loss,precision_3,recall_3,accuracy\n",
            "Epoch 35/50\n",
            "338/338 [==============================] - 1s 2ms/step - loss: 0.8843 - precision_3: 0.7550 - recall_3: 0.4316 - accuracy: 0.1207\n",
            "WARNING:tensorflow:Early stopping conditioned on metric `acc` which is not available. Available metrics are: loss,precision_3,recall_3,accuracy\n",
            "Epoch 36/50\n",
            "338/338 [==============================] - 1s 2ms/step - loss: 0.9103 - precision_3: 0.7796 - recall_3: 0.4221 - accuracy: 0.1216\n",
            "WARNING:tensorflow:Early stopping conditioned on metric `acc` which is not available. Available metrics are: loss,precision_3,recall_3,accuracy\n",
            "Epoch 37/50\n",
            "338/338 [==============================] - 1s 2ms/step - loss: 0.8702 - precision_3: 0.7637 - recall_3: 0.4465 - accuracy: 0.1302\n",
            "WARNING:tensorflow:Early stopping conditioned on metric `acc` which is not available. Available metrics are: loss,precision_3,recall_3,accuracy\n",
            "Epoch 38/50\n",
            "338/338 [==============================] - 1s 2ms/step - loss: 1.0442 - precision_3: 0.7154 - recall_3: 0.3777 - accuracy: 0.1138\n",
            "WARNING:tensorflow:Early stopping conditioned on metric `acc` which is not available. Available metrics are: loss,precision_3,recall_3,accuracy\n",
            "Epoch 39/50\n",
            "338/338 [==============================] - 1s 2ms/step - loss: 1.0370 - precision_3: 0.7472 - recall_3: 0.3517 - accuracy: 0.0755\n",
            "WARNING:tensorflow:Early stopping conditioned on metric `acc` which is not available. Available metrics are: loss,precision_3,recall_3,accuracy\n",
            "Epoch 40/50\n",
            "338/338 [==============================] - 1s 2ms/step - loss: 0.9775 - precision_3: 0.7334 - recall_3: 0.3252 - accuracy: 0.0824\n",
            "WARNING:tensorflow:Early stopping conditioned on metric `acc` which is not available. Available metrics are: loss,precision_3,recall_3,accuracy\n",
            "Epoch 41/50\n",
            "338/338 [==============================] - 1s 2ms/step - loss: 0.9948 - precision_3: 0.7315 - recall_3: 0.3580 - accuracy: 0.0860\n",
            "WARNING:tensorflow:Early stopping conditioned on metric `acc` which is not available. Available metrics are: loss,precision_3,recall_3,accuracy\n",
            "Epoch 42/50\n",
            "338/338 [==============================] - 1s 2ms/step - loss: 0.9672 - precision_3: 0.7542 - recall_3: 0.3813 - accuracy: 0.0834\n",
            "WARNING:tensorflow:Early stopping conditioned on metric `acc` which is not available. Available metrics are: loss,precision_3,recall_3,accuracy\n",
            "Epoch 43/50\n",
            "338/338 [==============================] - 1s 2ms/step - loss: 1.0386 - precision_3: 0.7098 - recall_3: 0.3330 - accuracy: 0.0877\n",
            "WARNING:tensorflow:Early stopping conditioned on metric `acc` which is not available. Available metrics are: loss,precision_3,recall_3,accuracy\n",
            "Epoch 44/50\n",
            "338/338 [==============================] - 1s 2ms/step - loss: 0.9963 - precision_3: 0.7558 - recall_3: 0.3974 - accuracy: 0.1110\n",
            "WARNING:tensorflow:Early stopping conditioned on metric `acc` which is not available. Available metrics are: loss,precision_3,recall_3,accuracy\n",
            "Epoch 45/50\n",
            "338/338 [==============================] - 1s 2ms/step - loss: 0.9806 - precision_3: 0.7640 - recall_3: 0.3783 - accuracy: 0.1057\n",
            "WARNING:tensorflow:Early stopping conditioned on metric `acc` which is not available. Available metrics are: loss,precision_3,recall_3,accuracy\n",
            "Epoch 46/50\n",
            "338/338 [==============================] - 1s 2ms/step - loss: 0.9208 - precision_3: 0.7613 - recall_3: 0.4253 - accuracy: 0.1249\n",
            "WARNING:tensorflow:Early stopping conditioned on metric `acc` which is not available. Available metrics are: loss,precision_3,recall_3,accuracy\n",
            "Epoch 47/50\n",
            "338/338 [==============================] - 1s 2ms/step - loss: 0.8875 - precision_3: 0.7709 - recall_3: 0.4306 - accuracy: 0.1232\n",
            "WARNING:tensorflow:Early stopping conditioned on metric `acc` which is not available. Available metrics are: loss,precision_3,recall_3,accuracy\n",
            "Epoch 48/50\n",
            "338/338 [==============================] - 1s 2ms/step - loss: 0.8439 - precision_3: 0.8355 - recall_3: 0.4604 - accuracy: 0.1288\n",
            "WARNING:tensorflow:Early stopping conditioned on metric `acc` which is not available. Available metrics are: loss,precision_3,recall_3,accuracy\n",
            "Epoch 49/50\n",
            "338/338 [==============================] - 1s 2ms/step - loss: 0.7945 - precision_3: 0.8061 - recall_3: 0.4921 - accuracy: 0.1443\n",
            "WARNING:tensorflow:Early stopping conditioned on metric `acc` which is not available. Available metrics are: loss,precision_3,recall_3,accuracy\n",
            "Epoch 50/50\n",
            "338/338 [==============================] - 1s 2ms/step - loss: 0.8584 - precision_3: 0.7890 - recall_3: 0.4529 - accuracy: 0.1423\n",
            "WARNING:tensorflow:Early stopping conditioned on metric `acc` which is not available. Available metrics are: loss,precision_3,recall_3,accuracy\n"
          ],
          "name": "stdout"
        }
      ]
    },
    {
      "cell_type": "code",
      "metadata": {
        "colab": {
          "base_uri": "https://localhost:8080/"
        },
        "id": "rKPUOSYxn2Wg",
        "outputId": "d97052b6-e66b-4dfb-dc6d-90beb870e98a"
      },
      "source": [
        "preds = model.evaluate(x = x_test, y = y_test)\n",
        "\n",
        "F1 = 2 * (preds[1] * preds[2]) / (preds[1] + preds[2])\n",
        "print(preds)\n",
        "print(F1)\n"
      ],
      "execution_count": null,
      "outputs": [
        {
          "output_type": "stream",
          "text": [
            "14/14 [==============================] - 0s 2ms/step - loss: 0.5865 - precision_3: 0.8533 - recall_3: 0.6052 - accuracy: 0.1378\n",
            "[0.5864861607551575, 0.8533333539962769, 0.6052009463310242, 0.13779129087924957]\n",
            "0.7081604501978223\n"
          ],
          "name": "stdout"
        }
      ]
    },
    {
      "cell_type": "code",
      "metadata": {
        "colab": {
          "base_uri": "https://localhost:8080/",
          "height": 324
        },
        "id": "GV730MDApAwS",
        "outputId": "aa3d9f8a-556b-4486-c81c-0d929f7cd552"
      },
      "source": [
        "\n",
        "pd.DataFrame(history.history).plot(figsize = (8, 5))\n",
        "plt.grid(True)\n",
        "plt.gca().set_ylim(0, 2.5)\n",
        "plt.show()\n"
      ],
      "execution_count": null,
      "outputs": [
        {
          "output_type": "display_data",
          "data": {
            "image/png": "[encoded data removed]",
            "text/plain": [
              "<Figure size 576x360 with 1 Axes>"
            ]
          },
          "metadata": {
            "tags": [],
            "needs_background": "light"
          }
        }
      ]
    },
    {
      "cell_type": "markdown",
      "metadata": {
        "id": "24RbwjHE9FMd"
      },
      "source": [
        "## 數值"
      ]
    },
    {
      "cell_type": "code",
      "metadata": {
        "id": "bSL6NxAx9BLT"
      },
      "source": [
        "input_layer = Input(shape=(x_train.shape[1],))\n",
        "dense_layer_1 =Dense(32,kernel_initializer=tf.keras.initializers.GlorotNormal() ,activation='relu', name =\"nl1\" )(input_layer)\n",
        "dense_layer_2 = Dense(16,kernel_initializer=tf.keras.initializers.GlorotNormal(),activation='relu', name =\"nl2\" )(dense_layer_1)\n",
        "dense_layer_2 = Dense(10,activation='relu', name =\"nl3\" )(dense_layer_2)\n",
        "dense_layer_2 = Dense(10,activation='relu', name =\"nl4\" )(dense_layer_2)\n",
        "dense_layer_2 = Dropout(0.5)(dense_layer_2)\n",
        "output = Dense(y_train.shape[1],activation='softmax')(dense_layer_2)\n",
        "model = Model(inputs=input_layer, outputs=output)\n",
        "print(model.summary())"
      ],
      "execution_count": null,
      "outputs": []
    },
    {
      "cell_type": "markdown",
      "metadata": {
        "id": "RaZO7ygdw2__"
      },
      "source": [
        ""
      ]
    },
    {
      "cell_type": "code",
      "metadata": {
        "id": "ehetB431w5G4"
      },
      "source": [
        "import numpy as np\n",
        "import pandas as pd\n",
        "import matplotlib.pyplot as plt\n",
        "from sklearn.model_selection import train_test_split\n",
        "from sklearn.metrics import f1_score, recall_score, precision_score\n",
        "import tensorflow as tf\n",
        "from tensorflow.keras.models import Model,Sequential\n",
        "from tensorflow.keras.layers import Input, Dense, Activation,Dropout\n",
        "\n",
        "df_white = pd.read_csv('https://archive.ics.uci.edu/ml/machine-learning-databases/wine-quality/winequality-white.csv',sep=\";\")\n",
        "# df_red= pd.read_csv('wine-quality/winequality-red.csv',sep=\";\")\n",
        "# df= pd.concat([df_red,df_white],axis=0)\n",
        "df=df_white\n",
        "\n"
      ],
      "execution_count": null,
      "outputs": []
    },
    {
      "cell_type": "code",
      "metadata": {
        "id": "5aU1cnduxLli"
      },
      "source": [
        "df"
      ],
      "execution_count": null,
      "outputs": []
    },
    {
      "cell_type": "code",
      "metadata": {
        "id": "9CDc1nNVw-mC"
      },
      "source": [
        "x=df.drop('quality',axis=1)\n",
        "y=df['quality']\n",
        "y=pd.get_dummies(y)\n",
        "x_train,x_test,y_train,y_test = train_test_split(x,y,test_size=0.2)\n",
        "x_train, x_val, y_train, y_val = train_test_split(x_train, y_train, test_size=0.15)\n",
        "\n",
        "\n",
        "x_train = tf.convert_to_tensor(x_train,dtype=tf.float32)\n",
        "y_train = tf.convert_to_tensor(y_train,dtype=tf.int32)\n",
        "\n",
        "x_val = tf.convert_to_tensor(x_val,dtype=tf.float32)\n",
        "y_val = tf.convert_to_tensor(y_val,dtype=tf.int32)\n",
        "\n",
        "x_test = tf.convert_to_tensor(x_test,dtype=tf.float32)\n",
        "y_test = tf.convert_to_tensor(y_test,dtype=tf.int32)\n"
      ],
      "execution_count": null,
      "outputs": []
    },
    {
      "cell_type": "code",
      "metadata": {
        "id": "6yJ0ZbdIxYwu"
      },
      "source": [
        "\n",
        "input_layer = Input(shape=(x_train.shape[1],))\n",
        "dense_layer_1 =Dense(22,kernel_initializer=tf.keras.initializers.GlorotNormal() ,activation='relu', name =\"nl1\" )(input_layer)\n",
        "dense_layer_2 = Dense(11,kernel_initializer=tf.keras.initializers.GlorotNormal(),activation='relu', name =\"nl2\" )(dense_layer_1)\n",
        "dense_layer_2 = Dense(10,activation='relu', name =\"nl3\" )(dense_layer_2)\n",
        "dense_layer_2 = Dense(10,activation='relu', name =\"nl4\" )(dense_layer_2)\n",
        "dense_layer_2 = Dropout(0.5)(dense_layer_2)\n",
        "dense_layer_2 = Dense(10,activation='relu', name =\"nl5\" )(dense_layer_2)\n",
        "output = Dense(y_train.shape[1],activation='softmax')(dense_layer_2)\n",
        "model = Model(inputs=input_layer, outputs=output)"
      ],
      "execution_count": null,
      "outputs": []
    },
    {
      "cell_type": "code",
      "metadata": {
        "id": "OUO8fRC1xalV"
      },
      "source": [
        "\n",
        "model.summary()\n"
      ],
      "execution_count": null,
      "outputs": []
    },
    {
      "cell_type": "code",
      "metadata": {
        "id": "GhSbXHAFxbkA"
      },
      "source": [
        "callback = tf.keras.callbacks.EarlyStopping(monitor='loss',mode='min', patience=5)\n",
        "Adam = tf.optimizers.Adam(lr=0.003, beta_1=0.9, beta_2=0.997, epsilon=1e-08, decay=0.0)\n",
        "model.compile(optimizer=Adam, \n",
        "              loss=tf.keras.losses.CategoricalCrossentropy(from_logits=True),\n",
        "              metrics = [tf.keras.metrics.PrecisionAtRecall(),tf.keras.metrics.Recall(),tf.keras.metrics.CategoricalAccuracy()]\n",
        "              )\n",
        "history = model.fit(x=x_train, y=y_train,  epochs=30,batch_size =5, callbacks=[callback])\n"
      ],
      "execution_count": null,
      "outputs": []
    },
    {
      "cell_type": "code",
      "metadata": {
        "id": "k4YGOj8bxeIC"
      },
      "source": [
        "y_predicted = model.predict(x_test)\n",
        "history.history\n",
        "\n",
        "\n",
        "# y_predicted = model.predict(x_test)\n",
        "preds = model.evaluate(x = x_test, y = y_test)\n",
        "print()\n",
        "print(preds)\n",
        "\n"
      ],
      "execution_count": null,
      "outputs": []
    },
    {
      "cell_type": "code",
      "metadata": {
        "id": "kTy9mO41xvKb"
      },
      "source": [
        "pd.DataFrame(history.history).plot(figsize = (8, 5))\n",
        "plt.grid(True)\n",
        "plt.gca().set_ylim(0, 2.5)\n",
        "plt.show()"
      ],
      "execution_count": null,
      "outputs": []
    }
  ]
}